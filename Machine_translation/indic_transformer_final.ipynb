{
  "metadata": {
    "kernelspec": {
      "name": "python3",
      "display_name": "Python 3",
      "language": "python"
    },
    "language_info": {
      "name": "python",
      "version": "3.11.11",
      "mimetype": "text/x-python",
      "codemirror_mode": {
        "name": "ipython",
        "version": 3
      },
      "pygments_lexer": "ipython3",
      "nbconvert_exporter": "python",
      "file_extension": ".py"
    },
    "accelerator": "GPU",
    "colab": {
      "gpuType": "T4",
      "provenance": []
    },
    "kaggle": {
      "accelerator": "nvidiaTeslaT4",
      "dataSources": [
        {
          "sourceId": 11879995,
          "sourceType": "datasetVersion",
          "datasetId": 7466221
        },
        {
          "sourceId": 406322,
          "sourceType": "modelInstanceVersion",
          "isSourceIdPinned": true,
          "modelInstanceId": 332021,
          "modelId": 352921
        }
      ],
      "dockerImageVersionId": 31041,
      "isInternetEnabled": true,
      "language": "python",
      "sourceType": "notebook",
      "isGpuEnabled": true
    },
    "widgets": {
      "application/vnd.jupyter.widget-state+json": {
        "979e2c015f404dbcba61217f93b19fcd": {
          "model_module": "@jupyter-widgets/controls",
          "model_name": "HBoxModel",
          "model_module_version": "1.5.0",
          "state": {
            "_dom_classes": [],
            "_model_module": "@jupyter-widgets/controls",
            "_model_module_version": "1.5.0",
            "_model_name": "HBoxModel",
            "_view_count": null,
            "_view_module": "@jupyter-widgets/controls",
            "_view_module_version": "1.5.0",
            "_view_name": "HBoxView",
            "box_style": "",
            "children": [
              "IPY_MODEL_7c1a04e7c027481098a8a8f605d5f86c",
              "IPY_MODEL_c9dc943d8cc945dfbd1c7c12e8d70427",
              "IPY_MODEL_45fe97c9207043ecb6694bc481e0895c"
            ],
            "layout": "IPY_MODEL_1d8a1539a376433f94bbcf612ad5a747"
          }
        },
        "7c1a04e7c027481098a8a8f605d5f86c": {
          "model_module": "@jupyter-widgets/controls",
          "model_name": "HTMLModel",
          "model_module_version": "1.5.0",
          "state": {
            "_dom_classes": [],
            "_model_module": "@jupyter-widgets/controls",
            "_model_module_version": "1.5.0",
            "_model_name": "HTMLModel",
            "_view_count": null,
            "_view_module": "@jupyter-widgets/controls",
            "_view_module_version": "1.5.0",
            "_view_name": "HTMLView",
            "description": "",
            "description_tooltip": null,
            "layout": "IPY_MODEL_d22b748478784110acfece129a48e41f",
            "placeholder": "​",
            "style": "IPY_MODEL_39290563d6a84153bf3c881f7940b3c7",
            "value": "config.json: 100%"
          }
        },
        "c9dc943d8cc945dfbd1c7c12e8d70427": {
          "model_module": "@jupyter-widgets/controls",
          "model_name": "FloatProgressModel",
          "model_module_version": "1.5.0",
          "state": {
            "_dom_classes": [],
            "_model_module": "@jupyter-widgets/controls",
            "_model_module_version": "1.5.0",
            "_model_name": "FloatProgressModel",
            "_view_count": null,
            "_view_module": "@jupyter-widgets/controls",
            "_view_module_version": "1.5.0",
            "_view_name": "ProgressView",
            "bar_style": "success",
            "description": "",
            "description_tooltip": null,
            "layout": "IPY_MODEL_b31c35ac998f40a1936290301c3903a0",
            "max": 507,
            "min": 0,
            "orientation": "horizontal",
            "style": "IPY_MODEL_ed81aaf8356446acb6f468d2c7a64a88",
            "value": 507
          }
        },
        "45fe97c9207043ecb6694bc481e0895c": {
          "model_module": "@jupyter-widgets/controls",
          "model_name": "HTMLModel",
          "model_module_version": "1.5.0",
          "state": {
            "_dom_classes": [],
            "_model_module": "@jupyter-widgets/controls",
            "_model_module_version": "1.5.0",
            "_model_name": "HTMLModel",
            "_view_count": null,
            "_view_module": "@jupyter-widgets/controls",
            "_view_module_version": "1.5.0",
            "_view_name": "HTMLView",
            "description": "",
            "description_tooltip": null,
            "layout": "IPY_MODEL_a3e751d150a2430ca889cb6ed2e639ed",
            "placeholder": "​",
            "style": "IPY_MODEL_d33ff0ba3b334a858c2bf3ca2168253e",
            "value": " 507/507 [00:00&lt;00:00, 52.4kB/s]"
          }
        },
        "1d8a1539a376433f94bbcf612ad5a747": {
          "model_module": "@jupyter-widgets/base",
          "model_name": "LayoutModel",
          "model_module_version": "1.2.0",
          "state": {
            "_model_module": "@jupyter-widgets/base",
            "_model_module_version": "1.2.0",
            "_model_name": "LayoutModel",
            "_view_count": null,
            "_view_module": "@jupyter-widgets/base",
            "_view_module_version": "1.2.0",
            "_view_name": "LayoutView",
            "align_content": null,
            "align_items": null,
            "align_self": null,
            "border": null,
            "bottom": null,
            "display": null,
            "flex": null,
            "flex_flow": null,
            "grid_area": null,
            "grid_auto_columns": null,
            "grid_auto_flow": null,
            "grid_auto_rows": null,
            "grid_column": null,
            "grid_gap": null,
            "grid_row": null,
            "grid_template_areas": null,
            "grid_template_columns": null,
            "grid_template_rows": null,
            "height": null,
            "justify_content": null,
            "justify_items": null,
            "left": null,
            "margin": null,
            "max_height": null,
            "max_width": null,
            "min_height": null,
            "min_width": null,
            "object_fit": null,
            "object_position": null,
            "order": null,
            "overflow": null,
            "overflow_x": null,
            "overflow_y": null,
            "padding": null,
            "right": null,
            "top": null,
            "visibility": null,
            "width": null
          }
        },
        "d22b748478784110acfece129a48e41f": {
          "model_module": "@jupyter-widgets/base",
          "model_name": "LayoutModel",
          "model_module_version": "1.2.0",
          "state": {
            "_model_module": "@jupyter-widgets/base",
            "_model_module_version": "1.2.0",
            "_model_name": "LayoutModel",
            "_view_count": null,
            "_view_module": "@jupyter-widgets/base",
            "_view_module_version": "1.2.0",
            "_view_name": "LayoutView",
            "align_content": null,
            "align_items": null,
            "align_self": null,
            "border": null,
            "bottom": null,
            "display": null,
            "flex": null,
            "flex_flow": null,
            "grid_area": null,
            "grid_auto_columns": null,
            "grid_auto_flow": null,
            "grid_auto_rows": null,
            "grid_column": null,
            "grid_gap": null,
            "grid_row": null,
            "grid_template_areas": null,
            "grid_template_columns": null,
            "grid_template_rows": null,
            "height": null,
            "justify_content": null,
            "justify_items": null,
            "left": null,
            "margin": null,
            "max_height": null,
            "max_width": null,
            "min_height": null,
            "min_width": null,
            "object_fit": null,
            "object_position": null,
            "order": null,
            "overflow": null,
            "overflow_x": null,
            "overflow_y": null,
            "padding": null,
            "right": null,
            "top": null,
            "visibility": null,
            "width": null
          }
        },
        "39290563d6a84153bf3c881f7940b3c7": {
          "model_module": "@jupyter-widgets/controls",
          "model_name": "DescriptionStyleModel",
          "model_module_version": "1.5.0",
          "state": {
            "_model_module": "@jupyter-widgets/controls",
            "_model_module_version": "1.5.0",
            "_model_name": "DescriptionStyleModel",
            "_view_count": null,
            "_view_module": "@jupyter-widgets/base",
            "_view_module_version": "1.2.0",
            "_view_name": "StyleView",
            "description_width": ""
          }
        },
        "b31c35ac998f40a1936290301c3903a0": {
          "model_module": "@jupyter-widgets/base",
          "model_name": "LayoutModel",
          "model_module_version": "1.2.0",
          "state": {
            "_model_module": "@jupyter-widgets/base",
            "_model_module_version": "1.2.0",
            "_model_name": "LayoutModel",
            "_view_count": null,
            "_view_module": "@jupyter-widgets/base",
            "_view_module_version": "1.2.0",
            "_view_name": "LayoutView",
            "align_content": null,
            "align_items": null,
            "align_self": null,
            "border": null,
            "bottom": null,
            "display": null,
            "flex": null,
            "flex_flow": null,
            "grid_area": null,
            "grid_auto_columns": null,
            "grid_auto_flow": null,
            "grid_auto_rows": null,
            "grid_column": null,
            "grid_gap": null,
            "grid_row": null,
            "grid_template_areas": null,
            "grid_template_columns": null,
            "grid_template_rows": null,
            "height": null,
            "justify_content": null,
            "justify_items": null,
            "left": null,
            "margin": null,
            "max_height": null,
            "max_width": null,
            "min_height": null,
            "min_width": null,
            "object_fit": null,
            "object_position": null,
            "order": null,
            "overflow": null,
            "overflow_x": null,
            "overflow_y": null,
            "padding": null,
            "right": null,
            "top": null,
            "visibility": null,
            "width": null
          }
        },
        "ed81aaf8356446acb6f468d2c7a64a88": {
          "model_module": "@jupyter-widgets/controls",
          "model_name": "ProgressStyleModel",
          "model_module_version": "1.5.0",
          "state": {
            "_model_module": "@jupyter-widgets/controls",
            "_model_module_version": "1.5.0",
            "_model_name": "ProgressStyleModel",
            "_view_count": null,
            "_view_module": "@jupyter-widgets/base",
            "_view_module_version": "1.2.0",
            "_view_name": "StyleView",
            "bar_color": null,
            "description_width": ""
          }
        },
        "a3e751d150a2430ca889cb6ed2e639ed": {
          "model_module": "@jupyter-widgets/base",
          "model_name": "LayoutModel",
          "model_module_version": "1.2.0",
          "state": {
            "_model_module": "@jupyter-widgets/base",
            "_model_module_version": "1.2.0",
            "_model_name": "LayoutModel",
            "_view_count": null,
            "_view_module": "@jupyter-widgets/base",
            "_view_module_version": "1.2.0",
            "_view_name": "LayoutView",
            "align_content": null,
            "align_items": null,
            "align_self": null,
            "border": null,
            "bottom": null,
            "display": null,
            "flex": null,
            "flex_flow": null,
            "grid_area": null,
            "grid_auto_columns": null,
            "grid_auto_flow": null,
            "grid_auto_rows": null,
            "grid_column": null,
            "grid_gap": null,
            "grid_row": null,
            "grid_template_areas": null,
            "grid_template_columns": null,
            "grid_template_rows": null,
            "height": null,
            "justify_content": null,
            "justify_items": null,
            "left": null,
            "margin": null,
            "max_height": null,
            "max_width": null,
            "min_height": null,
            "min_width": null,
            "object_fit": null,
            "object_position": null,
            "order": null,
            "overflow": null,
            "overflow_x": null,
            "overflow_y": null,
            "padding": null,
            "right": null,
            "top": null,
            "visibility": null,
            "width": null
          }
        },
        "d33ff0ba3b334a858c2bf3ca2168253e": {
          "model_module": "@jupyter-widgets/controls",
          "model_name": "DescriptionStyleModel",
          "model_module_version": "1.5.0",
          "state": {
            "_model_module": "@jupyter-widgets/controls",
            "_model_module_version": "1.5.0",
            "_model_name": "DescriptionStyleModel",
            "_view_count": null,
            "_view_module": "@jupyter-widgets/base",
            "_view_module_version": "1.2.0",
            "_view_name": "StyleView",
            "description_width": ""
          }
        },
        "ad6e682820964427be7691cdb7da5fe2": {
          "model_module": "@jupyter-widgets/controls",
          "model_name": "HBoxModel",
          "model_module_version": "1.5.0",
          "state": {
            "_dom_classes": [],
            "_model_module": "@jupyter-widgets/controls",
            "_model_module_version": "1.5.0",
            "_model_name": "HBoxModel",
            "_view_count": null,
            "_view_module": "@jupyter-widgets/controls",
            "_view_module_version": "1.5.0",
            "_view_name": "HBoxView",
            "box_style": "",
            "children": [
              "IPY_MODEL_d66d764d9c0f4c6e9ff386ac9d0772b1",
              "IPY_MODEL_7968e2c976b040d89af4827c49c606f8",
              "IPY_MODEL_b3393200b3e1495f8d4ecc3d1e639d72"
            ],
            "layout": "IPY_MODEL_7b468058de494feb8f6b02b56e5e3293"
          }
        },
        "d66d764d9c0f4c6e9ff386ac9d0772b1": {
          "model_module": "@jupyter-widgets/controls",
          "model_name": "HTMLModel",
          "model_module_version": "1.5.0",
          "state": {
            "_dom_classes": [],
            "_model_module": "@jupyter-widgets/controls",
            "_model_module_version": "1.5.0",
            "_model_name": "HTMLModel",
            "_view_count": null,
            "_view_module": "@jupyter-widgets/controls",
            "_view_module_version": "1.5.0",
            "_view_name": "HTMLView",
            "description": "",
            "description_tooltip": null,
            "layout": "IPY_MODEL_3d38f80846bf490aa2def675d6cf2c33",
            "placeholder": "​",
            "style": "IPY_MODEL_4682d446818c4ef299c18494493edea9",
            "value": "spiece.model: 100%"
          }
        },
        "7968e2c976b040d89af4827c49c606f8": {
          "model_module": "@jupyter-widgets/controls",
          "model_name": "FloatProgressModel",
          "model_module_version": "1.5.0",
          "state": {
            "_dom_classes": [],
            "_model_module": "@jupyter-widgets/controls",
            "_model_module_version": "1.5.0",
            "_model_name": "FloatProgressModel",
            "_view_count": null,
            "_view_module": "@jupyter-widgets/controls",
            "_view_module_version": "1.5.0",
            "_view_name": "ProgressView",
            "bar_style": "success",
            "description": "",
            "description_tooltip": null,
            "layout": "IPY_MODEL_f6e1e4bc104b4fa1bc06afbffcdf08cc",
            "max": 5646064,
            "min": 0,
            "orientation": "horizontal",
            "style": "IPY_MODEL_e3b069ae770d45ca965f71e980074ffe",
            "value": 5646064
          }
        },
        "b3393200b3e1495f8d4ecc3d1e639d72": {
          "model_module": "@jupyter-widgets/controls",
          "model_name": "HTMLModel",
          "model_module_version": "1.5.0",
          "state": {
            "_dom_classes": [],
            "_model_module": "@jupyter-widgets/controls",
            "_model_module_version": "1.5.0",
            "_model_name": "HTMLModel",
            "_view_count": null,
            "_view_module": "@jupyter-widgets/controls",
            "_view_module_version": "1.5.0",
            "_view_name": "HTMLView",
            "description": "",
            "description_tooltip": null,
            "layout": "IPY_MODEL_55914cf17a9e49758d8324fee017586e",
            "placeholder": "​",
            "style": "IPY_MODEL_e67793c639a14347b3bd76d15c6742ce",
            "value": " 5.65M/5.65M [00:01&lt;00:00, 3.62MB/s]"
          }
        },
        "7b468058de494feb8f6b02b56e5e3293": {
          "model_module": "@jupyter-widgets/base",
          "model_name": "LayoutModel",
          "model_module_version": "1.2.0",
          "state": {
            "_model_module": "@jupyter-widgets/base",
            "_model_module_version": "1.2.0",
            "_model_name": "LayoutModel",
            "_view_count": null,
            "_view_module": "@jupyter-widgets/base",
            "_view_module_version": "1.2.0",
            "_view_name": "LayoutView",
            "align_content": null,
            "align_items": null,
            "align_self": null,
            "border": null,
            "bottom": null,
            "display": null,
            "flex": null,
            "flex_flow": null,
            "grid_area": null,
            "grid_auto_columns": null,
            "grid_auto_flow": null,
            "grid_auto_rows": null,
            "grid_column": null,
            "grid_gap": null,
            "grid_row": null,
            "grid_template_areas": null,
            "grid_template_columns": null,
            "grid_template_rows": null,
            "height": null,
            "justify_content": null,
            "justify_items": null,
            "left": null,
            "margin": null,
            "max_height": null,
            "max_width": null,
            "min_height": null,
            "min_width": null,
            "object_fit": null,
            "object_position": null,
            "order": null,
            "overflow": null,
            "overflow_x": null,
            "overflow_y": null,
            "padding": null,
            "right": null,
            "top": null,
            "visibility": null,
            "width": null
          }
        },
        "3d38f80846bf490aa2def675d6cf2c33": {
          "model_module": "@jupyter-widgets/base",
          "model_name": "LayoutModel",
          "model_module_version": "1.2.0",
          "state": {
            "_model_module": "@jupyter-widgets/base",
            "_model_module_version": "1.2.0",
            "_model_name": "LayoutModel",
            "_view_count": null,
            "_view_module": "@jupyter-widgets/base",
            "_view_module_version": "1.2.0",
            "_view_name": "LayoutView",
            "align_content": null,
            "align_items": null,
            "align_self": null,
            "border": null,
            "bottom": null,
            "display": null,
            "flex": null,
            "flex_flow": null,
            "grid_area": null,
            "grid_auto_columns": null,
            "grid_auto_flow": null,
            "grid_auto_rows": null,
            "grid_column": null,
            "grid_gap": null,
            "grid_row": null,
            "grid_template_areas": null,
            "grid_template_columns": null,
            "grid_template_rows": null,
            "height": null,
            "justify_content": null,
            "justify_items": null,
            "left": null,
            "margin": null,
            "max_height": null,
            "max_width": null,
            "min_height": null,
            "min_width": null,
            "object_fit": null,
            "object_position": null,
            "order": null,
            "overflow": null,
            "overflow_x": null,
            "overflow_y": null,
            "padding": null,
            "right": null,
            "top": null,
            "visibility": null,
            "width": null
          }
        },
        "4682d446818c4ef299c18494493edea9": {
          "model_module": "@jupyter-widgets/controls",
          "model_name": "DescriptionStyleModel",
          "model_module_version": "1.5.0",
          "state": {
            "_model_module": "@jupyter-widgets/controls",
            "_model_module_version": "1.5.0",
            "_model_name": "DescriptionStyleModel",
            "_view_count": null,
            "_view_module": "@jupyter-widgets/base",
            "_view_module_version": "1.2.0",
            "_view_name": "StyleView",
            "description_width": ""
          }
        },
        "f6e1e4bc104b4fa1bc06afbffcdf08cc": {
          "model_module": "@jupyter-widgets/base",
          "model_name": "LayoutModel",
          "model_module_version": "1.2.0",
          "state": {
            "_model_module": "@jupyter-widgets/base",
            "_model_module_version": "1.2.0",
            "_model_name": "LayoutModel",
            "_view_count": null,
            "_view_module": "@jupyter-widgets/base",
            "_view_module_version": "1.2.0",
            "_view_name": "LayoutView",
            "align_content": null,
            "align_items": null,
            "align_self": null,
            "border": null,
            "bottom": null,
            "display": null,
            "flex": null,
            "flex_flow": null,
            "grid_area": null,
            "grid_auto_columns": null,
            "grid_auto_flow": null,
            "grid_auto_rows": null,
            "grid_column": null,
            "grid_gap": null,
            "grid_row": null,
            "grid_template_areas": null,
            "grid_template_columns": null,
            "grid_template_rows": null,
            "height": null,
            "justify_content": null,
            "justify_items": null,
            "left": null,
            "margin": null,
            "max_height": null,
            "max_width": null,
            "min_height": null,
            "min_width": null,
            "object_fit": null,
            "object_position": null,
            "order": null,
            "overflow": null,
            "overflow_x": null,
            "overflow_y": null,
            "padding": null,
            "right": null,
            "top": null,
            "visibility": null,
            "width": null
          }
        },
        "e3b069ae770d45ca965f71e980074ffe": {
          "model_module": "@jupyter-widgets/controls",
          "model_name": "ProgressStyleModel",
          "model_module_version": "1.5.0",
          "state": {
            "_model_module": "@jupyter-widgets/controls",
            "_model_module_version": "1.5.0",
            "_model_name": "ProgressStyleModel",
            "_view_count": null,
            "_view_module": "@jupyter-widgets/base",
            "_view_module_version": "1.2.0",
            "_view_name": "StyleView",
            "bar_color": null,
            "description_width": ""
          }
        },
        "55914cf17a9e49758d8324fee017586e": {
          "model_module": "@jupyter-widgets/base",
          "model_name": "LayoutModel",
          "model_module_version": "1.2.0",
          "state": {
            "_model_module": "@jupyter-widgets/base",
            "_model_module_version": "1.2.0",
            "_model_name": "LayoutModel",
            "_view_count": null,
            "_view_module": "@jupyter-widgets/base",
            "_view_module_version": "1.2.0",
            "_view_name": "LayoutView",
            "align_content": null,
            "align_items": null,
            "align_self": null,
            "border": null,
            "bottom": null,
            "display": null,
            "flex": null,
            "flex_flow": null,
            "grid_area": null,
            "grid_auto_columns": null,
            "grid_auto_flow": null,
            "grid_auto_rows": null,
            "grid_column": null,
            "grid_gap": null,
            "grid_row": null,
            "grid_template_areas": null,
            "grid_template_columns": null,
            "grid_template_rows": null,
            "height": null,
            "justify_content": null,
            "justify_items": null,
            "left": null,
            "margin": null,
            "max_height": null,
            "max_width": null,
            "min_height": null,
            "min_width": null,
            "object_fit": null,
            "object_position": null,
            "order": null,
            "overflow": null,
            "overflow_x": null,
            "overflow_y": null,
            "padding": null,
            "right": null,
            "top": null,
            "visibility": null,
            "width": null
          }
        },
        "e67793c639a14347b3bd76d15c6742ce": {
          "model_module": "@jupyter-widgets/controls",
          "model_name": "DescriptionStyleModel",
          "model_module_version": "1.5.0",
          "state": {
            "_model_module": "@jupyter-widgets/controls",
            "_model_module_version": "1.5.0",
            "_model_name": "DescriptionStyleModel",
            "_view_count": null,
            "_view_module": "@jupyter-widgets/base",
            "_view_module_version": "1.2.0",
            "_view_name": "StyleView",
            "description_width": ""
          }
        },
        "409ab91838b64618b3dc5afcb50b8d0b": {
          "model_module": "@jupyter-widgets/controls",
          "model_name": "HBoxModel",
          "model_module_version": "1.5.0",
          "state": {
            "_dom_classes": [],
            "_model_module": "@jupyter-widgets/controls",
            "_model_module_version": "1.5.0",
            "_model_name": "HBoxModel",
            "_view_count": null,
            "_view_module": "@jupyter-widgets/controls",
            "_view_module_version": "1.5.0",
            "_view_name": "HBoxView",
            "box_style": "",
            "children": [
              "IPY_MODEL_adeb3f0f4ed64361b231cc016a01dbeb",
              "IPY_MODEL_e4cf01853d42492688862377190ace99",
              "IPY_MODEL_fb2c194ce0ce42ad9de3e797da1b1304"
            ],
            "layout": "IPY_MODEL_cecf1c3c5de149b5bf2c0c3761dda50a"
          }
        },
        "adeb3f0f4ed64361b231cc016a01dbeb": {
          "model_module": "@jupyter-widgets/controls",
          "model_name": "HTMLModel",
          "model_module_version": "1.5.0",
          "state": {
            "_dom_classes": [],
            "_model_module": "@jupyter-widgets/controls",
            "_model_module_version": "1.5.0",
            "_model_name": "HTMLModel",
            "_view_count": null,
            "_view_module": "@jupyter-widgets/controls",
            "_view_module_version": "1.5.0",
            "_view_name": "HTMLView",
            "description": "",
            "description_tooltip": null,
            "layout": "IPY_MODEL_22987ce565ad4de28f180b689790d10f",
            "placeholder": "​",
            "style": "IPY_MODEL_233d8df52704410cae0822118bc0c4aa",
            "value": "pytorch_model.bin: 100%"
          }
        },
        "e4cf01853d42492688862377190ace99": {
          "model_module": "@jupyter-widgets/controls",
          "model_name": "FloatProgressModel",
          "model_module_version": "1.5.0",
          "state": {
            "_dom_classes": [],
            "_model_module": "@jupyter-widgets/controls",
            "_model_module_version": "1.5.0",
            "_model_name": "FloatProgressModel",
            "_view_count": null,
            "_view_module": "@jupyter-widgets/controls",
            "_view_module_version": "1.5.0",
            "_view_name": "ProgressView",
            "bar_style": "success",
            "description": "",
            "description_tooltip": null,
            "layout": "IPY_MODEL_b5dddf637a43465d8461e2373e83172e",
            "max": 134982446,
            "min": 0,
            "orientation": "horizontal",
            "style": "IPY_MODEL_8db650a7ffe740988f7711cf09f3bc27",
            "value": 134982446
          }
        },
        "fb2c194ce0ce42ad9de3e797da1b1304": {
          "model_module": "@jupyter-widgets/controls",
          "model_name": "HTMLModel",
          "model_module_version": "1.5.0",
          "state": {
            "_dom_classes": [],
            "_model_module": "@jupyter-widgets/controls",
            "_model_module_version": "1.5.0",
            "_model_name": "HTMLModel",
            "_view_count": null,
            "_view_module": "@jupyter-widgets/controls",
            "_view_module_version": "1.5.0",
            "_view_name": "HTMLView",
            "description": "",
            "description_tooltip": null,
            "layout": "IPY_MODEL_cdb731d58c764b1a89fa87554bc97252",
            "placeholder": "​",
            "style": "IPY_MODEL_fab54ff3b54340ec96ed2b816ee22bca",
            "value": " 135M/135M [00:00&lt;00:00, 218MB/s]"
          }
        },
        "cecf1c3c5de149b5bf2c0c3761dda50a": {
          "model_module": "@jupyter-widgets/base",
          "model_name": "LayoutModel",
          "model_module_version": "1.2.0",
          "state": {
            "_model_module": "@jupyter-widgets/base",
            "_model_module_version": "1.2.0",
            "_model_name": "LayoutModel",
            "_view_count": null,
            "_view_module": "@jupyter-widgets/base",
            "_view_module_version": "1.2.0",
            "_view_name": "LayoutView",
            "align_content": null,
            "align_items": null,
            "align_self": null,
            "border": null,
            "bottom": null,
            "display": null,
            "flex": null,
            "flex_flow": null,
            "grid_area": null,
            "grid_auto_columns": null,
            "grid_auto_flow": null,
            "grid_auto_rows": null,
            "grid_column": null,
            "grid_gap": null,
            "grid_row": null,
            "grid_template_areas": null,
            "grid_template_columns": null,
            "grid_template_rows": null,
            "height": null,
            "justify_content": null,
            "justify_items": null,
            "left": null,
            "margin": null,
            "max_height": null,
            "max_width": null,
            "min_height": null,
            "min_width": null,
            "object_fit": null,
            "object_position": null,
            "order": null,
            "overflow": null,
            "overflow_x": null,
            "overflow_y": null,
            "padding": null,
            "right": null,
            "top": null,
            "visibility": null,
            "width": null
          }
        },
        "22987ce565ad4de28f180b689790d10f": {
          "model_module": "@jupyter-widgets/base",
          "model_name": "LayoutModel",
          "model_module_version": "1.2.0",
          "state": {
            "_model_module": "@jupyter-widgets/base",
            "_model_module_version": "1.2.0",
            "_model_name": "LayoutModel",
            "_view_count": null,
            "_view_module": "@jupyter-widgets/base",
            "_view_module_version": "1.2.0",
            "_view_name": "LayoutView",
            "align_content": null,
            "align_items": null,
            "align_self": null,
            "border": null,
            "bottom": null,
            "display": null,
            "flex": null,
            "flex_flow": null,
            "grid_area": null,
            "grid_auto_columns": null,
            "grid_auto_flow": null,
            "grid_auto_rows": null,
            "grid_column": null,
            "grid_gap": null,
            "grid_row": null,
            "grid_template_areas": null,
            "grid_template_columns": null,
            "grid_template_rows": null,
            "height": null,
            "justify_content": null,
            "justify_items": null,
            "left": null,
            "margin": null,
            "max_height": null,
            "max_width": null,
            "min_height": null,
            "min_width": null,
            "object_fit": null,
            "object_position": null,
            "order": null,
            "overflow": null,
            "overflow_x": null,
            "overflow_y": null,
            "padding": null,
            "right": null,
            "top": null,
            "visibility": null,
            "width": null
          }
        },
        "233d8df52704410cae0822118bc0c4aa": {
          "model_module": "@jupyter-widgets/controls",
          "model_name": "DescriptionStyleModel",
          "model_module_version": "1.5.0",
          "state": {
            "_model_module": "@jupyter-widgets/controls",
            "_model_module_version": "1.5.0",
            "_model_name": "DescriptionStyleModel",
            "_view_count": null,
            "_view_module": "@jupyter-widgets/base",
            "_view_module_version": "1.2.0",
            "_view_name": "StyleView",
            "description_width": ""
          }
        },
        "b5dddf637a43465d8461e2373e83172e": {
          "model_module": "@jupyter-widgets/base",
          "model_name": "LayoutModel",
          "model_module_version": "1.2.0",
          "state": {
            "_model_module": "@jupyter-widgets/base",
            "_model_module_version": "1.2.0",
            "_model_name": "LayoutModel",
            "_view_count": null,
            "_view_module": "@jupyter-widgets/base",
            "_view_module_version": "1.2.0",
            "_view_name": "LayoutView",
            "align_content": null,
            "align_items": null,
            "align_self": null,
            "border": null,
            "bottom": null,
            "display": null,
            "flex": null,
            "flex_flow": null,
            "grid_area": null,
            "grid_auto_columns": null,
            "grid_auto_flow": null,
            "grid_auto_rows": null,
            "grid_column": null,
            "grid_gap": null,
            "grid_row": null,
            "grid_template_areas": null,
            "grid_template_columns": null,
            "grid_template_rows": null,
            "height": null,
            "justify_content": null,
            "justify_items": null,
            "left": null,
            "margin": null,
            "max_height": null,
            "max_width": null,
            "min_height": null,
            "min_width": null,
            "object_fit": null,
            "object_position": null,
            "order": null,
            "overflow": null,
            "overflow_x": null,
            "overflow_y": null,
            "padding": null,
            "right": null,
            "top": null,
            "visibility": null,
            "width": null
          }
        },
        "8db650a7ffe740988f7711cf09f3bc27": {
          "model_module": "@jupyter-widgets/controls",
          "model_name": "ProgressStyleModel",
          "model_module_version": "1.5.0",
          "state": {
            "_model_module": "@jupyter-widgets/controls",
            "_model_module_version": "1.5.0",
            "_model_name": "ProgressStyleModel",
            "_view_count": null,
            "_view_module": "@jupyter-widgets/base",
            "_view_module_version": "1.2.0",
            "_view_name": "StyleView",
            "bar_color": null,
            "description_width": ""
          }
        },
        "cdb731d58c764b1a89fa87554bc97252": {
          "model_module": "@jupyter-widgets/base",
          "model_name": "LayoutModel",
          "model_module_version": "1.2.0",
          "state": {
            "_model_module": "@jupyter-widgets/base",
            "_model_module_version": "1.2.0",
            "_model_name": "LayoutModel",
            "_view_count": null,
            "_view_module": "@jupyter-widgets/base",
            "_view_module_version": "1.2.0",
            "_view_name": "LayoutView",
            "align_content": null,
            "align_items": null,
            "align_self": null,
            "border": null,
            "bottom": null,
            "display": null,
            "flex": null,
            "flex_flow": null,
            "grid_area": null,
            "grid_auto_columns": null,
            "grid_auto_flow": null,
            "grid_auto_rows": null,
            "grid_column": null,
            "grid_gap": null,
            "grid_row": null,
            "grid_template_areas": null,
            "grid_template_columns": null,
            "grid_template_rows": null,
            "height": null,
            "justify_content": null,
            "justify_items": null,
            "left": null,
            "margin": null,
            "max_height": null,
            "max_width": null,
            "min_height": null,
            "min_width": null,
            "object_fit": null,
            "object_position": null,
            "order": null,
            "overflow": null,
            "overflow_x": null,
            "overflow_y": null,
            "padding": null,
            "right": null,
            "top": null,
            "visibility": null,
            "width": null
          }
        },
        "fab54ff3b54340ec96ed2b816ee22bca": {
          "model_module": "@jupyter-widgets/controls",
          "model_name": "DescriptionStyleModel",
          "model_module_version": "1.5.0",
          "state": {
            "_model_module": "@jupyter-widgets/controls",
            "_model_module_version": "1.5.0",
            "_model_name": "DescriptionStyleModel",
            "_view_count": null,
            "_view_module": "@jupyter-widgets/base",
            "_view_module_version": "1.2.0",
            "_view_name": "StyleView",
            "description_width": ""
          }
        },
        "866386399eb0403e949f1da512625ca5": {
          "model_module": "@jupyter-widgets/controls",
          "model_name": "HBoxModel",
          "model_module_version": "1.5.0",
          "state": {
            "_dom_classes": [],
            "_model_module": "@jupyter-widgets/controls",
            "_model_module_version": "1.5.0",
            "_model_name": "HBoxModel",
            "_view_count": null,
            "_view_module": "@jupyter-widgets/controls",
            "_view_module_version": "1.5.0",
            "_view_name": "HBoxView",
            "box_style": "",
            "children": [
              "IPY_MODEL_3612402bf61a4eabbbf631331cd25f2e",
              "IPY_MODEL_1adac969477a4364905d22edd8585feb",
              "IPY_MODEL_452a6ee697a7471e9cedcd1eb0c5c491"
            ],
            "layout": "IPY_MODEL_aef8aae9fdf34f9b9cd852f258fa10ff"
          }
        },
        "3612402bf61a4eabbbf631331cd25f2e": {
          "model_module": "@jupyter-widgets/controls",
          "model_name": "HTMLModel",
          "model_module_version": "1.5.0",
          "state": {
            "_dom_classes": [],
            "_model_module": "@jupyter-widgets/controls",
            "_model_module_version": "1.5.0",
            "_model_name": "HTMLModel",
            "_view_count": null,
            "_view_module": "@jupyter-widgets/controls",
            "_view_module_version": "1.5.0",
            "_view_name": "HTMLView",
            "description": "",
            "description_tooltip": null,
            "layout": "IPY_MODEL_d4357f1e7a5c496fa7dd0ed31a91509e",
            "placeholder": "​",
            "style": "IPY_MODEL_46d729044a8a43c2931a9ca737843ae6",
            "value": "model.safetensors: 100%"
          }
        },
        "1adac969477a4364905d22edd8585feb": {
          "model_module": "@jupyter-widgets/controls",
          "model_name": "FloatProgressModel",
          "model_module_version": "1.5.0",
          "state": {
            "_dom_classes": [],
            "_model_module": "@jupyter-widgets/controls",
            "_model_module_version": "1.5.0",
            "_model_name": "FloatProgressModel",
            "_view_count": null,
            "_view_module": "@jupyter-widgets/controls",
            "_view_module_version": "1.5.0",
            "_view_name": "ProgressView",
            "bar_style": "success",
            "description": "",
            "description_tooltip": null,
            "layout": "IPY_MODEL_51c25e72496c454a9ccccd350f563ac7",
            "max": 134979328,
            "min": 0,
            "orientation": "horizontal",
            "style": "IPY_MODEL_b0182a3964704d0f8f33fc152b7d289a",
            "value": 134979328
          }
        },
        "452a6ee697a7471e9cedcd1eb0c5c491": {
          "model_module": "@jupyter-widgets/controls",
          "model_name": "HTMLModel",
          "model_module_version": "1.5.0",
          "state": {
            "_dom_classes": [],
            "_model_module": "@jupyter-widgets/controls",
            "_model_module_version": "1.5.0",
            "_model_name": "HTMLModel",
            "_view_count": null,
            "_view_module": "@jupyter-widgets/controls",
            "_view_module_version": "1.5.0",
            "_view_name": "HTMLView",
            "description": "",
            "description_tooltip": null,
            "layout": "IPY_MODEL_89217fd1308b4080b3071764a3625117",
            "placeholder": "​",
            "style": "IPY_MODEL_ec648626377a4402aee078600e5c989f",
            "value": " 135M/135M [00:00&lt;00:00, 172MB/s]"
          }
        },
        "aef8aae9fdf34f9b9cd852f258fa10ff": {
          "model_module": "@jupyter-widgets/base",
          "model_name": "LayoutModel",
          "model_module_version": "1.2.0",
          "state": {
            "_model_module": "@jupyter-widgets/base",
            "_model_module_version": "1.2.0",
            "_model_name": "LayoutModel",
            "_view_count": null,
            "_view_module": "@jupyter-widgets/base",
            "_view_module_version": "1.2.0",
            "_view_name": "LayoutView",
            "align_content": null,
            "align_items": null,
            "align_self": null,
            "border": null,
            "bottom": null,
            "display": null,
            "flex": null,
            "flex_flow": null,
            "grid_area": null,
            "grid_auto_columns": null,
            "grid_auto_flow": null,
            "grid_auto_rows": null,
            "grid_column": null,
            "grid_gap": null,
            "grid_row": null,
            "grid_template_areas": null,
            "grid_template_columns": null,
            "grid_template_rows": null,
            "height": null,
            "justify_content": null,
            "justify_items": null,
            "left": null,
            "margin": null,
            "max_height": null,
            "max_width": null,
            "min_height": null,
            "min_width": null,
            "object_fit": null,
            "object_position": null,
            "order": null,
            "overflow": null,
            "overflow_x": null,
            "overflow_y": null,
            "padding": null,
            "right": null,
            "top": null,
            "visibility": null,
            "width": null
          }
        },
        "d4357f1e7a5c496fa7dd0ed31a91509e": {
          "model_module": "@jupyter-widgets/base",
          "model_name": "LayoutModel",
          "model_module_version": "1.2.0",
          "state": {
            "_model_module": "@jupyter-widgets/base",
            "_model_module_version": "1.2.0",
            "_model_name": "LayoutModel",
            "_view_count": null,
            "_view_module": "@jupyter-widgets/base",
            "_view_module_version": "1.2.0",
            "_view_name": "LayoutView",
            "align_content": null,
            "align_items": null,
            "align_self": null,
            "border": null,
            "bottom": null,
            "display": null,
            "flex": null,
            "flex_flow": null,
            "grid_area": null,
            "grid_auto_columns": null,
            "grid_auto_flow": null,
            "grid_auto_rows": null,
            "grid_column": null,
            "grid_gap": null,
            "grid_row": null,
            "grid_template_areas": null,
            "grid_template_columns": null,
            "grid_template_rows": null,
            "height": null,
            "justify_content": null,
            "justify_items": null,
            "left": null,
            "margin": null,
            "max_height": null,
            "max_width": null,
            "min_height": null,
            "min_width": null,
            "object_fit": null,
            "object_position": null,
            "order": null,
            "overflow": null,
            "overflow_x": null,
            "overflow_y": null,
            "padding": null,
            "right": null,
            "top": null,
            "visibility": null,
            "width": null
          }
        },
        "46d729044a8a43c2931a9ca737843ae6": {
          "model_module": "@jupyter-widgets/controls",
          "model_name": "DescriptionStyleModel",
          "model_module_version": "1.5.0",
          "state": {
            "_model_module": "@jupyter-widgets/controls",
            "_model_module_version": "1.5.0",
            "_model_name": "DescriptionStyleModel",
            "_view_count": null,
            "_view_module": "@jupyter-widgets/base",
            "_view_module_version": "1.2.0",
            "_view_name": "StyleView",
            "description_width": ""
          }
        },
        "51c25e72496c454a9ccccd350f563ac7": {
          "model_module": "@jupyter-widgets/base",
          "model_name": "LayoutModel",
          "model_module_version": "1.2.0",
          "state": {
            "_model_module": "@jupyter-widgets/base",
            "_model_module_version": "1.2.0",
            "_model_name": "LayoutModel",
            "_view_count": null,
            "_view_module": "@jupyter-widgets/base",
            "_view_module_version": "1.2.0",
            "_view_name": "LayoutView",
            "align_content": null,
            "align_items": null,
            "align_self": null,
            "border": null,
            "bottom": null,
            "display": null,
            "flex": null,
            "flex_flow": null,
            "grid_area": null,
            "grid_auto_columns": null,
            "grid_auto_flow": null,
            "grid_auto_rows": null,
            "grid_column": null,
            "grid_gap": null,
            "grid_row": null,
            "grid_template_areas": null,
            "grid_template_columns": null,
            "grid_template_rows": null,
            "height": null,
            "justify_content": null,
            "justify_items": null,
            "left": null,
            "margin": null,
            "max_height": null,
            "max_width": null,
            "min_height": null,
            "min_width": null,
            "object_fit": null,
            "object_position": null,
            "order": null,
            "overflow": null,
            "overflow_x": null,
            "overflow_y": null,
            "padding": null,
            "right": null,
            "top": null,
            "visibility": null,
            "width": null
          }
        },
        "b0182a3964704d0f8f33fc152b7d289a": {
          "model_module": "@jupyter-widgets/controls",
          "model_name": "ProgressStyleModel",
          "model_module_version": "1.5.0",
          "state": {
            "_model_module": "@jupyter-widgets/controls",
            "_model_module_version": "1.5.0",
            "_model_name": "ProgressStyleModel",
            "_view_count": null,
            "_view_module": "@jupyter-widgets/base",
            "_view_module_version": "1.2.0",
            "_view_name": "StyleView",
            "bar_color": null,
            "description_width": ""
          }
        },
        "89217fd1308b4080b3071764a3625117": {
          "model_module": "@jupyter-widgets/base",
          "model_name": "LayoutModel",
          "model_module_version": "1.2.0",
          "state": {
            "_model_module": "@jupyter-widgets/base",
            "_model_module_version": "1.2.0",
            "_model_name": "LayoutModel",
            "_view_count": null,
            "_view_module": "@jupyter-widgets/base",
            "_view_module_version": "1.2.0",
            "_view_name": "LayoutView",
            "align_content": null,
            "align_items": null,
            "align_self": null,
            "border": null,
            "bottom": null,
            "display": null,
            "flex": null,
            "flex_flow": null,
            "grid_area": null,
            "grid_auto_columns": null,
            "grid_auto_flow": null,
            "grid_auto_rows": null,
            "grid_column": null,
            "grid_gap": null,
            "grid_row": null,
            "grid_template_areas": null,
            "grid_template_columns": null,
            "grid_template_rows": null,
            "height": null,
            "justify_content": null,
            "justify_items": null,
            "left": null,
            "margin": null,
            "max_height": null,
            "max_width": null,
            "min_height": null,
            "min_width": null,
            "object_fit": null,
            "object_position": null,
            "order": null,
            "overflow": null,
            "overflow_x": null,
            "overflow_y": null,
            "padding": null,
            "right": null,
            "top": null,
            "visibility": null,
            "width": null
          }
        },
        "ec648626377a4402aee078600e5c989f": {
          "model_module": "@jupyter-widgets/controls",
          "model_name": "DescriptionStyleModel",
          "model_module_version": "1.5.0",
          "state": {
            "_model_module": "@jupyter-widgets/controls",
            "_model_module_version": "1.5.0",
            "_model_name": "DescriptionStyleModel",
            "_view_count": null,
            "_view_module": "@jupyter-widgets/base",
            "_view_module_version": "1.2.0",
            "_view_name": "StyleView",
            "description_width": ""
          }
        }
      }
    }
  },
  "nbformat_minor": 0,
  "nbformat": 4,
  "cells": [
    {
      "cell_type": "markdown",
      "source": [
        "#Importing the Dataset"
      ],
      "metadata": {
        "id": "GcUAuhJ1VqWC"
      }
    },
    {
      "cell_type": "code",
      "source": [
        "import torch\n",
        "import torch.nn as nn\n",
        "from torch.utils.data import Dataset, DataLoader\n",
        "import pandas as pd\n",
        "import numpy as np\n",
        "from transformers import AutoTokenizer, AutoModel\n",
        "from torch.nn.utils.rnn import pad_sequence\n",
        "from tqdm import tqdm\n",
        "import matplotlib.pyplot as plt"
      ],
      "metadata": {
        "id": "fCxzZb9vlQ_S",
        "trusted": true,
        "execution": {
          "iopub.status.busy": "2025-05-21T19:43:52.886412Z",
          "iopub.execute_input": "2025-05-21T19:43:52.886952Z",
          "iopub.status.idle": "2025-05-21T19:43:52.891188Z",
          "shell.execute_reply.started": "2025-05-21T19:43:52.886928Z",
          "shell.execute_reply": "2025-05-21T19:43:52.890450Z"
        }
      },
      "outputs": [],
      "execution_count": 1
    },
    {
      "cell_type": "code",
      "source": [
        "# Define the base path to your dataset\n",
        "\n",
        "\n",
        "# Load the CSV files\n",
        "train_data = pd.read_csv(\"/content/team7_hi_train.csv\")\n",
        "valid_data = pd.read_csv(\"/content/team7_hi_valid.csv\")\n",
        "test_data  = pd.read_csv(\"/content/team7_hi_test.csv\")\n",
        "\n",
        "# Display a few rows to inspect\n",
        "print(\"Train Sample:\")\n",
        "print(train_data.head())"
      ],
      "metadata": {
        "trusted": true,
        "execution": {
          "iopub.status.busy": "2025-05-21T17:10:00.605114Z",
          "iopub.execute_input": "2025-05-21T17:10:00.605849Z",
          "iopub.status.idle": "2025-05-21T17:10:01.758796Z",
          "shell.execute_reply.started": "2025-05-21T17:10:00.605822Z",
          "shell.execute_reply": "2025-05-21T17:10:01.758111Z"
        },
        "colab": {
          "base_uri": "https://localhost:8080/"
        },
        "id": "9JVPCSjmdNYu",
        "outputId": "ee22a37a-0196-4339-8448-6e79f1666878"
      },
      "outputs": [
        {
          "output_type": "stream",
          "name": "stdout",
          "text": [
            "Train Sample:\n",
            "                                              source  \\\n",
            "0  However, Paes, who was partnering Australia's ...   \n",
            "1  Whosoever desires the reward of the world, wit...   \n",
            "2  The value of insects in the biosphere is enorm...   \n",
            "3  Mithali To Anchor Indian Team Against Australi...   \n",
            "4  After the assent of the Honble President on 8t...   \n",
            "\n",
            "                                              target  \n",
            "0  आस्ट्रेलिया के पाल हेनली के साथ जोड़ी बनाने वाल...  \n",
            "1  और जो शख्स (अपने आमाल का) बदला दुनिया ही में च...  \n",
            "2  जैव-मंडल में कीड़ों का मूल्य बहुत है, क्योंकि ...  \n",
            "3    आस्ट्रेलिया के खिलाफ वनडे टीम की कमान मिताली को  \n",
            "4  8 सितम्‍बर, 2016 को माननीय राष्‍ट्रपति की स्‍व...  \n"
          ]
        }
      ],
      "execution_count": 2
    },
    {
      "cell_type": "markdown",
      "source": [
        "# Tokenizing & Embedding English Words"
      ],
      "metadata": {
        "id": "j8nXaL7yVv6b"
      }
    },
    {
      "cell_type": "code",
      "source": [
        "def tokenize(text):\n",
        "    return text.lower().split()"
      ],
      "metadata": {
        "id": "hyVeLGQj3QGO",
        "trusted": true,
        "execution": {
          "iopub.status.busy": "2025-05-21T17:10:04.151318Z",
          "iopub.execute_input": "2025-05-21T17:10:04.151619Z",
          "iopub.status.idle": "2025-05-21T17:10:04.155792Z",
          "shell.execute_reply.started": "2025-05-21T17:10:04.151587Z",
          "shell.execute_reply": "2025-05-21T17:10:04.154914Z"
        }
      },
      "outputs": [],
      "execution_count": 3
    },
    {
      "cell_type": "code",
      "source": [
        "def build_vocab(texts, tokenizer):\n",
        "    vocab = {}\n",
        "    index = 1  # Start indexing from 1 (0 reserved for <pad>)\n",
        "\n",
        "    for text in texts:\n",
        "        tokens = tokenizer(text)\n",
        "        for token in tokens:\n",
        "            if token not in vocab:\n",
        "                vocab[token] = index\n",
        "                index += 1\n",
        "\n",
        "    # Special tokens\n",
        "    vocab['<pad>'] = 0\n",
        "    vocab['<sos>'] = index\n",
        "    index += 1\n",
        "    vocab['<eos>'] = index\n",
        "    index += 1\n",
        "    vocab['<unk>'] = index\n",
        "\n",
        "    return vocab\n"
      ],
      "metadata": {
        "id": "WpCu0J4T3Rpl",
        "trusted": true,
        "execution": {
          "iopub.status.busy": "2025-05-21T17:10:06.166235Z",
          "iopub.execute_input": "2025-05-21T17:10:06.166836Z",
          "iopub.status.idle": "2025-05-21T17:10:06.171333Z",
          "shell.execute_reply.started": "2025-05-21T17:10:06.166810Z",
          "shell.execute_reply": "2025-05-21T17:10:06.170724Z"
        }
      },
      "outputs": [],
      "execution_count": 4
    },
    {
      "cell_type": "code",
      "source": [
        "fraction = 1.0\n",
        "subset_size = int(len(train_data) * fraction)\n",
        "\n",
        "train_subset = train_data.iloc[:subset_size]\n",
        "src_vocab = build_vocab(train_subset['source'],tokenizer = tokenize)\n",
        "# tgt_vocab = build_vocab(train_subset['target'])"
      ],
      "metadata": {
        "id": "pN_QBjm23TKO",
        "trusted": true,
        "execution": {
          "iopub.status.busy": "2025-05-21T17:10:08.052115Z",
          "iopub.execute_input": "2025-05-21T17:10:08.052805Z",
          "iopub.status.idle": "2025-05-21T17:10:08.257738Z",
          "shell.execute_reply.started": "2025-05-21T17:10:08.052775Z",
          "shell.execute_reply": "2025-05-21T17:10:08.256956Z"
        }
      },
      "outputs": [],
      "execution_count": 5
    },
    {
      "cell_type": "code",
      "source": [
        "def load_glove_embeddings(path, vocab, embed_dim):\n",
        "    embeddings = np.random.uniform(-0.1, 0.1, (len(vocab), embed_dim))\n",
        "    word_to_idx = vocab\n",
        "    with open(path, 'r', encoding='utf-8') as f:\n",
        "        for line in f:\n",
        "            values = line.strip().split()\n",
        "            word = values[0]\n",
        "            vector = np.asarray(values[1:], dtype='float32')\n",
        "            if word in word_to_idx:\n",
        "                embeddings[word_to_idx[word]] = vector\n",
        "    return torch.tensor(embeddings, dtype=torch.float)\n",
        "\n",
        "# Load GloVe (assuming 200d vectors, change to match your file)\n",
        "glove_path = '/content/glove.6B.200d.txt'  # Path to your GloVe file\n",
        "src_embedding_matrix = load_glove_embeddings(glove_path, src_vocab, embed_dim=200)"
      ],
      "metadata": {
        "id": "TPHtCZTc3Yg0",
        "trusted": true,
        "execution": {
          "iopub.status.busy": "2025-05-21T17:10:09.934329Z",
          "iopub.execute_input": "2025-05-21T17:10:09.934602Z",
          "iopub.status.idle": "2025-05-21T17:10:29.106499Z",
          "shell.execute_reply.started": "2025-05-21T17:10:09.934581Z",
          "shell.execute_reply": "2025-05-21T17:10:29.105908Z"
        }
      },
      "outputs": [],
      "execution_count": 6
    },
    {
      "cell_type": "code",
      "source": [
        "src_embedding_matrix.shape"
      ],
      "metadata": {
        "id": "Nkv4eRWNCs5f",
        "trusted": true,
        "execution": {
          "iopub.status.busy": "2025-05-21T17:10:58.297472Z",
          "iopub.execute_input": "2025-05-21T17:10:58.297789Z",
          "iopub.status.idle": "2025-05-21T17:10:58.303246Z",
          "shell.execute_reply.started": "2025-05-21T17:10:58.297766Z",
          "shell.execute_reply": "2025-05-21T17:10:58.302716Z"
        },
        "colab": {
          "base_uri": "https://localhost:8080/"
        },
        "outputId": "cbabc3bf-f7f7-44bf-abbb-37f2eb4d0032"
      },
      "outputs": [
        {
          "output_type": "execute_result",
          "data": {
            "text/plain": [
              "torch.Size([92387, 200])"
            ]
          },
          "metadata": {},
          "execution_count": 7
        }
      ],
      "execution_count": 7
    },
    {
      "cell_type": "markdown",
      "source": [
        "# Tokenizing & Embedding Gujarati Words"
      ],
      "metadata": {
        "id": "UzEr7WhkV1c2"
      }
    },
    {
      "cell_type": "code",
      "source": [
        "# !pip install transformers indic-nlp-library\n",
        "\n",
        "from transformers import AutoTokenizer\n",
        "\n",
        "tokenizer_indic = AutoTokenizer.from_pretrained(\"ai4bharat/indic-bert\")\n",
        "model_indic = AutoModel.from_pretrained(\"ai4bharat/indic-bert\")\n",
        "model_indic.eval()\n",
        "device = torch.device('cuda' if torch.cuda.is_available() else 'cpu')\n",
        "model_indic.to(device)\n",
        "def indic_tokenizer(text):\n",
        "    return tokenizer_indic.tokenize(text)\n",
        "tgt_vocab = build_vocab(train_subset['target'], tokenizer=indic_tokenizer)\n"
      ],
      "metadata": {
        "id": "YadjCscB3sYh",
        "trusted": true,
        "execution": {
          "iopub.status.busy": "2025-05-21T17:11:00.703582Z",
          "iopub.execute_input": "2025-05-21T17:11:00.703886Z",
          "iopub.status.idle": "2025-05-21T17:11:34.577949Z",
          "shell.execute_reply.started": "2025-05-21T17:11:00.703866Z",
          "shell.execute_reply": "2025-05-21T17:11:34.577321Z"
        },
        "colab": {
          "base_uri": "https://localhost:8080/",
          "height": 249,
          "referenced_widgets": [
            "979e2c015f404dbcba61217f93b19fcd",
            "7c1a04e7c027481098a8a8f605d5f86c",
            "c9dc943d8cc945dfbd1c7c12e8d70427",
            "45fe97c9207043ecb6694bc481e0895c",
            "1d8a1539a376433f94bbcf612ad5a747",
            "d22b748478784110acfece129a48e41f",
            "39290563d6a84153bf3c881f7940b3c7",
            "b31c35ac998f40a1936290301c3903a0",
            "ed81aaf8356446acb6f468d2c7a64a88",
            "a3e751d150a2430ca889cb6ed2e639ed",
            "d33ff0ba3b334a858c2bf3ca2168253e",
            "ad6e682820964427be7691cdb7da5fe2",
            "d66d764d9c0f4c6e9ff386ac9d0772b1",
            "7968e2c976b040d89af4827c49c606f8",
            "b3393200b3e1495f8d4ecc3d1e639d72",
            "7b468058de494feb8f6b02b56e5e3293",
            "3d38f80846bf490aa2def675d6cf2c33",
            "4682d446818c4ef299c18494493edea9",
            "f6e1e4bc104b4fa1bc06afbffcdf08cc",
            "e3b069ae770d45ca965f71e980074ffe",
            "55914cf17a9e49758d8324fee017586e",
            "e67793c639a14347b3bd76d15c6742ce",
            "409ab91838b64618b3dc5afcb50b8d0b",
            "adeb3f0f4ed64361b231cc016a01dbeb",
            "e4cf01853d42492688862377190ace99",
            "fb2c194ce0ce42ad9de3e797da1b1304",
            "cecf1c3c5de149b5bf2c0c3761dda50a",
            "22987ce565ad4de28f180b689790d10f",
            "233d8df52704410cae0822118bc0c4aa",
            "b5dddf637a43465d8461e2373e83172e",
            "8db650a7ffe740988f7711cf09f3bc27",
            "cdb731d58c764b1a89fa87554bc97252",
            "fab54ff3b54340ec96ed2b816ee22bca",
            "866386399eb0403e949f1da512625ca5",
            "3612402bf61a4eabbbf631331cd25f2e",
            "1adac969477a4364905d22edd8585feb",
            "452a6ee697a7471e9cedcd1eb0c5c491",
            "aef8aae9fdf34f9b9cd852f258fa10ff",
            "d4357f1e7a5c496fa7dd0ed31a91509e",
            "46d729044a8a43c2931a9ca737843ae6",
            "51c25e72496c454a9ccccd350f563ac7",
            "b0182a3964704d0f8f33fc152b7d289a",
            "89217fd1308b4080b3071764a3625117",
            "ec648626377a4402aee078600e5c989f"
          ]
        },
        "outputId": "22b78e3c-2655-454f-c1ff-ec5aa44d7724"
      },
      "outputs": [
        {
          "output_type": "stream",
          "name": "stderr",
          "text": [
            "/usr/local/lib/python3.11/dist-packages/huggingface_hub/utils/_auth.py:94: UserWarning: \n",
            "The secret `HF_TOKEN` does not exist in your Colab secrets.\n",
            "To authenticate with the Hugging Face Hub, create a token in your settings tab (https://huggingface.co/settings/tokens), set it as secret in your Google Colab and restart your session.\n",
            "You will be able to reuse this secret in all of your notebooks.\n",
            "Please note that authentication is recommended but still optional to access public models or datasets.\n",
            "  warnings.warn(\n"
          ]
        },
        {
          "output_type": "display_data",
          "data": {
            "text/plain": [
              "config.json:   0%|          | 0.00/507 [00:00<?, ?B/s]"
            ],
            "application/vnd.jupyter.widget-view+json": {
              "version_major": 2,
              "version_minor": 0,
              "model_id": "979e2c015f404dbcba61217f93b19fcd"
            }
          },
          "metadata": {}
        },
        {
          "output_type": "display_data",
          "data": {
            "text/plain": [
              "spiece.model:   0%|          | 0.00/5.65M [00:00<?, ?B/s]"
            ],
            "application/vnd.jupyter.widget-view+json": {
              "version_major": 2,
              "version_minor": 0,
              "model_id": "ad6e682820964427be7691cdb7da5fe2"
            }
          },
          "metadata": {}
        },
        {
          "output_type": "display_data",
          "data": {
            "text/plain": [
              "pytorch_model.bin:   0%|          | 0.00/135M [00:00<?, ?B/s]"
            ],
            "application/vnd.jupyter.widget-view+json": {
              "version_major": 2,
              "version_minor": 0,
              "model_id": "409ab91838b64618b3dc5afcb50b8d0b"
            }
          },
          "metadata": {}
        },
        {
          "output_type": "display_data",
          "data": {
            "text/plain": [
              "model.safetensors:   0%|          | 0.00/135M [00:00<?, ?B/s]"
            ],
            "application/vnd.jupyter.widget-view+json": {
              "version_major": 2,
              "version_minor": 0,
              "model_id": "866386399eb0403e949f1da512625ca5"
            }
          },
          "metadata": {}
        }
      ],
      "execution_count": 8
    },
    {
      "cell_type": "code",
      "source": [
        "def get_indicbert_embeddings(vocab, tokenizer, model):\n",
        "    device = 'cuda' if torch.cuda.is_available() else 'cpu'\n",
        "    emb_layer = model.get_input_embeddings()\n",
        "    embed_dim = emb_layer.embedding_dim\n",
        "\n",
        "    embeddings = torch.zeros(len(vocab), embed_dim)\n",
        "    for token, idx in tqdm(vocab.items(), total=len(vocab)):\n",
        "        if token in tokenizer.vocab:\n",
        "            tid = tokenizer.convert_tokens_to_ids(token)\n",
        "            embeddings[idx] = emb_layer.weight[tid].detach().cpu()\n",
        "        else:\n",
        "            embeddings[idx] = torch.zeros(embed_dim)\n",
        "    return embeddings\n",
        "\n",
        "tgt_embedding_matrix = get_indicbert_embeddings(tgt_vocab, tokenizer_indic, model_indic)\n"
      ],
      "metadata": {
        "id": "sxAJ3cL93sy0",
        "trusted": true,
        "execution": {
          "iopub.status.busy": "2025-05-21T17:11:46.965276Z",
          "iopub.execute_input": "2025-05-21T17:11:46.965930Z",
          "iopub.status.idle": "2025-05-21T17:24:52.326612Z",
          "shell.execute_reply.started": "2025-05-21T17:11:46.965907Z",
          "shell.execute_reply": "2025-05-21T17:24:52.325706Z"
        },
        "colab": {
          "base_uri": "https://localhost:8080/"
        },
        "outputId": "5a00c99b-fbe9-42fa-8393-1e4be9200200"
      },
      "outputs": [
        {
          "output_type": "stream",
          "name": "stderr",
          "text": [
            "100%|██████████| 6870/6870 [14:13<00:00,  8.05it/s]\n"
          ]
        }
      ],
      "execution_count": 9
    },
    {
      "cell_type": "code",
      "source": [
        "tgt_embedding_matrix.shape"
      ],
      "metadata": {
        "id": "EPYDinJ9drQu",
        "trusted": true,
        "execution": {
          "iopub.status.busy": "2025-05-21T17:25:18.462426Z",
          "iopub.execute_input": "2025-05-21T17:25:18.462704Z",
          "iopub.status.idle": "2025-05-21T17:25:18.467900Z",
          "shell.execute_reply.started": "2025-05-21T17:25:18.462685Z",
          "shell.execute_reply": "2025-05-21T17:25:18.467292Z"
        },
        "colab": {
          "base_uri": "https://localhost:8080/"
        },
        "outputId": "c7c36ebe-a424-49a1-df49-1059f9c1f990"
      },
      "outputs": [
        {
          "output_type": "execute_result",
          "data": {
            "text/plain": [
              "torch.Size([6870, 128])"
            ]
          },
          "metadata": {},
          "execution_count": 10
        }
      ],
      "execution_count": 10
    },
    {
      "cell_type": "code",
      "source": [
        "np.savetxt(\"tgt_embedding_matrix.txt\", tgt_embedding_matrix.numpy())"
      ],
      "metadata": {
        "id": "w-dUHFC4drQu",
        "trusted": true,
        "execution": {
          "iopub.status.busy": "2025-05-21T17:25:22.511767Z",
          "iopub.execute_input": "2025-05-21T17:25:22.512253Z",
          "iopub.status.idle": "2025-05-21T17:25:23.211568Z",
          "shell.execute_reply.started": "2025-05-21T17:25:22.512230Z",
          "shell.execute_reply": "2025-05-21T17:25:23.210645Z"
        }
      },
      "outputs": [],
      "execution_count": 11
    },
    {
      "cell_type": "code",
      "source": [
        "class TranslationDataset(Dataset):\n",
        "    def __init__(self, dataframe, src_vocab, tgt_vocab):\n",
        "        self.source_texts = dataframe['source'].tolist()\n",
        "        self.target_texts = dataframe['target'].tolist()\n",
        "        self.src_vocab = src_vocab\n",
        "        self.tgt_vocab = tgt_vocab\n",
        "\n",
        "    def __len__(self):\n",
        "        return len(self.source_texts)\n",
        "\n",
        "    def __getitem__(self, idx):\n",
        "        src = [self.src_vocab['<sos>']] + [self.src_vocab.get(word, self.src_vocab['<unk>']) for word in tokenize(self.source_texts[idx])] + [self.src_vocab['<eos>']]\n",
        "        tgt = [self.tgt_vocab['<sos>']] + [self.tgt_vocab.get(word, self.tgt_vocab['<unk>']) for word in indic_tokenizer(self.target_texts[idx])] + [self.tgt_vocab['<eos>']]\n",
        "        return torch.tensor(src), torch.tensor(tgt)"
      ],
      "metadata": {
        "id": "YfQ5k0_N3_-8",
        "trusted": true,
        "execution": {
          "iopub.status.busy": "2025-05-21T17:25:26.400105Z",
          "iopub.execute_input": "2025-05-21T17:25:26.400588Z",
          "iopub.status.idle": "2025-05-21T17:25:26.406967Z",
          "shell.execute_reply.started": "2025-05-21T17:25:26.400565Z",
          "shell.execute_reply": "2025-05-21T17:25:26.406056Z"
        }
      },
      "outputs": [],
      "execution_count": 12
    },
    {
      "cell_type": "code",
      "source": [
        "def collate_fn(batch):\n",
        "    src_batch, tgt_batch = zip(*batch)\n",
        "    src_batch = pad_sequence(src_batch, padding_value=src_vocab['<pad>'])\n",
        "    tgt_batch = pad_sequence(tgt_batch, padding_value=tgt_vocab['<pad>'])\n",
        "    return src_batch, tgt_batch"
      ],
      "metadata": {
        "id": "5BMlDn0Q4RoS",
        "trusted": true,
        "execution": {
          "iopub.status.busy": "2025-05-21T17:25:29.245010Z",
          "iopub.execute_input": "2025-05-21T17:25:29.245292Z",
          "iopub.status.idle": "2025-05-21T17:25:29.249751Z",
          "shell.execute_reply.started": "2025-05-21T17:25:29.245272Z",
          "shell.execute_reply": "2025-05-21T17:25:29.249019Z"
        }
      },
      "outputs": [],
      "execution_count": 13
    },
    {
      "cell_type": "code",
      "source": [
        "train_dataset = TranslationDataset(train_data, src_vocab, tgt_vocab)\n",
        "train_loader = DataLoader(train_dataset, batch_size=16, shuffle=True, collate_fn=collate_fn)\n",
        "\n",
        "valid_dataset = TranslationDataset(valid_data, src_vocab, tgt_vocab)\n",
        "valid_loader = DataLoader(valid_dataset, batch_size=16, shuffle=True, collate_fn=collate_fn)"
      ],
      "metadata": {
        "id": "iDoD_sO94gM3",
        "trusted": true,
        "execution": {
          "iopub.status.busy": "2025-05-21T19:39:05.072088Z",
          "iopub.execute_input": "2025-05-21T19:39:05.072652Z",
          "iopub.status.idle": "2025-05-21T19:39:05.105177Z",
          "shell.execute_reply.started": "2025-05-21T19:39:05.072626Z",
          "shell.execute_reply": "2025-05-21T19:39:05.104564Z"
        }
      },
      "outputs": [],
      "execution_count": 14
    },
    {
      "cell_type": "code",
      "source": [
        "tgt_embedding_matrix = torch.tensor(np.loadtxt(\"tgt_embedding_matrix.txt\"), dtype=torch.float)"
      ],
      "metadata": {
        "id": "r0-AwfLpdrQv",
        "trusted": true,
        "execution": {
          "iopub.status.busy": "2025-05-21T17:25:36.382397Z",
          "iopub.execute_input": "2025-05-21T17:25:36.382695Z",
          "iopub.status.idle": "2025-05-21T17:25:36.785364Z",
          "shell.execute_reply.started": "2025-05-21T17:25:36.382674Z",
          "shell.execute_reply": "2025-05-21T17:25:36.784609Z"
        }
      },
      "outputs": [],
      "execution_count": 15
    },
    {
      "cell_type": "code",
      "source": [
        "def make_pad_mask(seq, pad_idx):\n",
        "    \"\"\"\n",
        "    Create padding mask for a batch of sequences.\n",
        "    seq: (batch_size, seq_len) of token indices\n",
        "    Returns: (batch_size, seq_len) bool mask where True indicates pad.\n",
        "    \"\"\"\n",
        "    return (seq == pad_idx)\n",
        "\n",
        "def generate_square_subsequent_mask(sz):\n",
        "    \"\"\"\n",
        "    Create a causal (subsequent) mask to prevent attending to future positions.\n",
        "    Returns a (sz, sz) float tensor where positions (i,j) with j>i are -inf, else 0.\n",
        "    \"\"\"\n",
        "    mask = torch.triu(torch.ones(sz, sz) * float('-inf'), diagonal=1)\n",
        "    return mask"
      ],
      "metadata": {
        "id": "yNk-JBIadrQv",
        "trusted": true,
        "execution": {
          "iopub.status.busy": "2025-05-21T17:25:38.885945Z",
          "iopub.execute_input": "2025-05-21T17:25:38.886637Z",
          "iopub.status.idle": "2025-05-21T17:25:38.890933Z",
          "shell.execute_reply.started": "2025-05-21T17:25:38.886612Z",
          "shell.execute_reply": "2025-05-21T17:25:38.890164Z"
        }
      },
      "outputs": [],
      "execution_count": 16
    },
    {
      "cell_type": "code",
      "source": [
        "import torch\n",
        "import torch.nn as nn\n",
        "import math\n",
        "\n",
        "class PositionalEncoding(nn.Module):\n",
        "    def __init__(self, d_model, max_len=5000, dropout=0.1):\n",
        "        super(PositionalEncoding, self).__init__()\n",
        "        self.dropout = nn.Dropout(p=dropout)\n",
        "\n",
        "        # Create a matrix of shape (max_len, d_model) with positional encodings\n",
        "        pe = torch.zeros(max_len, d_model)\n",
        "        position = torch.arange(0, max_len).unsqueeze(1)  # (max_len, 1)\n",
        "        div_term = torch.exp(torch.arange(0, d_model, 2) * (-math.log(10000.0) / d_model))  # (d_model/2)\n",
        "\n",
        "        # Apply sin to even indices in the array; cos to odd indices\n",
        "        pe[:, 0::2] = torch.sin(position * div_term)  # Even indices\n",
        "        pe[:, 1::2] = torch.cos(position * div_term)  # Odd indices\n",
        "\n",
        "        pe = pe.unsqueeze(1)  # Shape: (max_len, 1, d_model)\n",
        "        self.register_buffer('pe', pe)\n",
        "\n",
        "    def forward(self, x):\n",
        "        # x: (seq_len, batch_size, d_model)\n",
        "        x = x + self.pe[:x.size(0)]\n",
        "        return self.dropout(x)\n",
        "\n",
        "\n",
        "class Seq2SeqTransformer(nn.Module):\n",
        "    def __init__(self,\n",
        "                 src_vocab_size,\n",
        "                 tgt_vocab_size,\n",
        "                 src_embed_matrix,    # torch.Tensor (src_vocab, 200)\n",
        "                 tgt_embed_matrix,    # torch.Tensor (tgt_vocab, 768)\n",
        "                 src_pad_idx,\n",
        "                 tgt_pad_idx,\n",
        "                 d_model=256,         # common model dim\n",
        "                 nhead=8,\n",
        "                 num_encoder_layers=3,\n",
        "                 num_decoder_layers=3,\n",
        "                 dim_feedforward=512,\n",
        "                 dropout=0.1):\n",
        "        super().__init__()\n",
        "\n",
        "        # 1) Embedding layers\n",
        "        self.src_embedding = nn.Embedding.from_pretrained(src_embed_matrix, freeze=True)\n",
        "        self.tgt_embedding = nn.Embedding.from_pretrained(tgt_embed_matrix, freeze=True)\n",
        "\n",
        "        # 2) Project both to d_model\n",
        "        self.src_proj = nn.Linear(self.src_embedding.embedding_dim, d_model)\n",
        "        self.tgt_proj = nn.Linear(self.tgt_embedding.embedding_dim, d_model)\n",
        "\n",
        "        # 3) Positional encoding\n",
        "        self.pos_encoder = PositionalEncoding(d_model, dropout=dropout)\n",
        "\n",
        "        # 4) Core Transformer\n",
        "        self.transformer = nn.Transformer(\n",
        "            d_model=d_model,\n",
        "            nhead=nhead,\n",
        "            num_encoder_layers=num_encoder_layers,\n",
        "            num_decoder_layers=num_decoder_layers,\n",
        "            dim_feedforward=dim_feedforward,\n",
        "            dropout=dropout,\n",
        "            batch_first=False\n",
        "        )\n",
        "\n",
        "        # 5) Final projection to target vocab\n",
        "        self.output_layer = nn.Linear(d_model, tgt_vocab_size)\n",
        "\n",
        "        # 6) Padding indices (for mask creation)\n",
        "        self.src_pad_idx = src_pad_idx\n",
        "        self.tgt_pad_idx = tgt_pad_idx\n",
        "\n",
        "    def forward(self,\n",
        "                src,                    # (src_len, batch)\n",
        "                tgt,                    # (tgt_len, batch)\n",
        "                src_mask=None,          # optional, generally None\n",
        "                tgt_mask=None,          # (tgt_len, tgt_len)\n",
        "                src_key_padding_mask=None,   # (batch, src_len)\n",
        "                tgt_key_padding_mask=None,   # (batch, tgt_len)\n",
        "                memory_key_padding_mask=None # (batch, src_len)\n",
        "                ):\n",
        "        # 1) Embed + project + position\n",
        "        src_emb = self.src_embedding(src)       # (src_len, batch, 200)\n",
        "        src_emb = self.src_proj(src_emb)        # → (src_len, batch, d_model)\n",
        "        src_emb = self.pos_encoder(src_emb)     # + positional\n",
        "\n",
        "        tgt_emb = self.tgt_embedding(tgt)       # (tgt_len, batch, 768)\n",
        "        tgt_emb = self.tgt_proj(tgt_emb)        # → (tgt_len, batch, d_model)\n",
        "        tgt_emb = self.pos_encoder(tgt_emb)     # + positional\n",
        "\n",
        "        # 2) Transformer\n",
        "        output = self.transformer(\n",
        "            src_emb, tgt_emb,\n",
        "            src_mask=src_mask,\n",
        "            tgt_mask=tgt_mask,\n",
        "            src_key_padding_mask=src_key_padding_mask,\n",
        "            tgt_key_padding_mask=tgt_key_padding_mask,\n",
        "            memory_key_padding_mask=memory_key_padding_mask\n",
        "        )\n",
        "\n",
        "        # 3) Project to vocab\n",
        "        return self.output_layer(output)       # (tgt_len, batch, tgt_vocab_size)"
      ],
      "metadata": {
        "id": "cvvE2TigdrQv",
        "trusted": true,
        "execution": {
          "iopub.status.busy": "2025-05-21T17:25:41.058593Z",
          "iopub.execute_input": "2025-05-21T17:25:41.059191Z",
          "iopub.status.idle": "2025-05-21T17:25:41.074949Z",
          "shell.execute_reply.started": "2025-05-21T17:25:41.059167Z",
          "shell.execute_reply": "2025-05-21T17:25:41.074119Z"
        }
      },
      "outputs": [],
      "execution_count": 17
    },
    {
      "cell_type": "markdown",
      "source": [
        "# Training the Model"
      ],
      "metadata": {
        "id": "qtVXkbVPWEk9"
      }
    },
    {
      "cell_type": "code",
      "source": [
        "def make_pad_mask(seq, pad_idx):\n",
        "    ## REMOVE TRANSPOSE WHILE TESTING\n",
        "    return (seq == pad_idx).transpose(0, 1)  # (batch, seq_len)\n"
      ],
      "metadata": {
        "id": "129YCV7idrQv",
        "trusted": true,
        "execution": {
          "iopub.status.busy": "2025-05-21T19:47:28.202462Z",
          "iopub.execute_input": "2025-05-21T19:47:28.202778Z",
          "iopub.status.idle": "2025-05-21T19:47:28.206864Z",
          "shell.execute_reply.started": "2025-05-21T19:47:28.202754Z",
          "shell.execute_reply": "2025-05-21T19:47:28.205959Z"
        }
      },
      "outputs": [],
      "execution_count": 32
    },
    {
      "cell_type": "code",
      "source": [
        "def generate_square_subsequent_mask(sz):\n",
        "    return torch.triu(torch.ones(sz, sz) * float('-inf'), diagonal=1)\n"
      ],
      "metadata": {
        "id": "WXbAqhJFdrQw",
        "trusted": true,
        "execution": {
          "iopub.status.busy": "2025-05-21T17:25:47.935260Z",
          "iopub.execute_input": "2025-05-21T17:25:47.935894Z",
          "iopub.status.idle": "2025-05-21T17:25:47.939825Z",
          "shell.execute_reply.started": "2025-05-21T17:25:47.935868Z",
          "shell.execute_reply": "2025-05-21T17:25:47.939084Z"
        }
      },
      "outputs": [],
      "execution_count": 19
    },
    {
      "cell_type": "code",
      "source": [
        "len(valid_loader)"
      ],
      "metadata": {
        "trusted": true,
        "execution": {
          "iopub.status.busy": "2025-05-21T19:41:12.666809Z",
          "iopub.execute_input": "2025-05-21T19:41:12.667305Z",
          "iopub.status.idle": "2025-05-21T19:41:12.672027Z",
          "shell.execute_reply.started": "2025-05-21T19:41:12.667282Z",
          "shell.execute_reply": "2025-05-21T19:41:12.671331Z"
        },
        "colab": {
          "base_uri": "https://localhost:8080/"
        },
        "id": "8bRBVGC_dNYy",
        "outputId": "94f9bea1-287f-4a90-ad9e-dc43ed21ad48"
      },
      "outputs": [
        {
          "output_type": "execute_result",
          "data": {
            "text/plain": [
              "1250"
            ]
          },
          "metadata": {},
          "execution_count": 20
        }
      ],
      "execution_count": 20
    },
    {
      "cell_type": "code",
      "source": [
        "import torch\n",
        "import torch.nn as nn\n",
        "from torch.utils.data import DataLoader\n",
        "from tqdm import tqdm\n",
        "\n",
        "# ── Assumes these are already defined/imported: ────────────────────────────────\n",
        "# Seq2SeqTransformer, make_pad_mask, generate_square_subsequent_mask\n",
        "# train_loader, src_vocab, tgt_vocab, src_embedding_matrix, tgt_embedding_matrix\n",
        "\n",
        "device = torch.device('cuda' if torch.cuda.is_available() else 'cpu')\n",
        "\n",
        "# 1) Instantiate the model\n",
        "d_model = 256\n",
        "model = Seq2SeqTransformer(\n",
        "    src_vocab_size = len(src_vocab),\n",
        "    tgt_vocab_size = len(tgt_vocab),\n",
        "    src_embed_matrix = src_embedding_matrix.to(device),\n",
        "    tgt_embed_matrix = tgt_embedding_matrix.to(device),\n",
        "    src_pad_idx = src_vocab['<pad>'],\n",
        "    tgt_pad_idx = tgt_vocab['<pad>'],\n",
        "    d_model = d_model\n",
        ").to(device)\n",
        "\n",
        "# 2) Loss & Optimizer\n",
        "criterion = nn.CrossEntropyLoss(ignore_index= tgt_vocab['<pad>'])\n",
        "optimizer = torch.optim.Adam(model.parameters(), lr=1e-4)\n",
        "\n",
        "# 3) Training Loop\n",
        "EPOCHS, train_loss_list, val_loss_list, best_valid_loss = 20, [], [], float('inf')\n",
        "for epoch in range(1, EPOCHS+1):\n",
        "    model.train()\n",
        "    total_loss, valid_loss = 0, 0\n",
        "\n",
        "    for src, tgt in tqdm(train_loader, desc=f\"Epoch {epoch}/{EPOCHS}\"):\n",
        "        # src, tgt: (seq_len, batch_size)\n",
        "        src, tgt = src.to(device), tgt.to(device)\n",
        "\n",
        "        # 3.1) Prepare input & target\n",
        "        tgt_input  = tgt[:-1, :]  # remove last token\n",
        "        tgt_output = tgt[1:, :]   # remove first token\n",
        "\n",
        "        # 3.2) Build masks\n",
        "        # --- Padding masks: True for positions to mask\n",
        "        # Pass the original (seq_len, batch_size) tensor to make_pad_mask\n",
        "        # make_pad_mask will transpose it to (batch_size, seq_len)\n",
        "        src_key_padding_mask = make_pad_mask(src, src_vocab['<pad>']).to(device)\n",
        "        tgt_key_padding_mask = make_pad_mask(tgt_input, tgt_vocab['<pad>']).to(device)\n",
        "        memory_key_padding_mask = src_key_padding_mask\n",
        "\n",
        "        # --- Causal mask for decoder (prevent peeking ahead)\n",
        "        tgt_mask = generate_square_subsequent_mask(tgt_input.size(0)).to(device)\n",
        "\n",
        "        # 3.3) Forward + Loss\n",
        "        optimizer.zero_grad()\n",
        "        logits = model(\n",
        "            src,\n",
        "            tgt_input,\n",
        "            src_mask=None,\n",
        "            tgt_mask=tgt_mask,\n",
        "            src_key_padding_mask=src_key_padding_mask, # (batch, src_len)\n",
        "            tgt_key_padding_mask=tgt_key_padding_mask, # (batch, tgt_len)\n",
        "            memory_key_padding_mask=memory_key_padding_mask # (batch, src_len)\n",
        "        )\n",
        "        # logits: (tgt_len, batch_size, tgt_vocab_size)\n",
        "\n",
        "        # Flatten for loss: ignore pad index\n",
        "        loss = criterion(\n",
        "            logits.view(-1, logits.size(-1)),\n",
        "            tgt_output.reshape(-1)\n",
        "        )\n",
        "        loss.backward()\n",
        "        optimizer.step()\n",
        "\n",
        "        total_loss += loss.item()\n",
        "\n",
        "    for src, tgt in valid_loader:\n",
        "        src, tgt = src.to(device), tgt.to(device)\n",
        "\n",
        "        # 3.1) Prepare input & target\n",
        "        tgt_input  = tgt[:-1, :]  # remove last token\n",
        "        tgt_output = tgt[1:, :]   # remove first token\n",
        "\n",
        "        # 3.2) Build masks\n",
        "        # --- Padding masks: True for positions to mask\n",
        "        # Pass the original (seq_len, batch_size) tensor to make_pad_mask\n",
        "        # make_pad_mask will transpose it to (batch_size, seq_len)\n",
        "        src_key_padding_mask = make_pad_mask(src, src_vocab['<pad>']).to(device)\n",
        "        tgt_key_padding_mask = make_pad_mask(tgt_input, tgt_vocab['<pad>']).to(device)\n",
        "        memory_key_padding_mask = src_key_padding_mask\n",
        "\n",
        "        # --- Causal mask for decoder (prevent peeking ahead)\n",
        "        tgt_mask = generate_square_subsequent_mask(tgt_input.size(0)).to(device)\n",
        "        val_logits = model(\n",
        "            src,\n",
        "            tgt_input,\n",
        "            src_mask=None,\n",
        "            tgt_mask=tgt_mask,\n",
        "            src_key_padding_mask=src_key_padding_mask, # (batch, src_len)\n",
        "            tgt_key_padding_mask=tgt_key_padding_mask, # (batch, tgt_len)\n",
        "            memory_key_padding_mask=memory_key_padding_mask # (batch, src_len)\n",
        "        )\n",
        "        val_loss = criterion(\n",
        "            val_logits.view(-1, logits.size(-1)),\n",
        "            tgt_output.reshape(-1)\n",
        "        )\n",
        "        valid_loss += val_loss.item()\n",
        "\n",
        "    avg_train_loss = total_loss / len(train_loader)\n",
        "    avg_val_loss = valid_loss / len(valid_loader)\n",
        "\n",
        "    if best_valid_loss > avg_val_loss:\n",
        "        torch.save(model.state_dict(), 'transformer_weights_best.pth')\n",
        "        best_valid_loss = avg_val_loss\n",
        "\n",
        "    train_loss_list.append(avg_train_loss)\n",
        "    val_loss_list.append(avg_val_loss)\n",
        "    print(f\"Epoch {epoch}/{EPOCHS} — Training Loss: {avg_train_loss:.4f} | Validation Loss: {avg_val_loss:.4f}\")\n",
        "\n",
        "plt.figure(figsize=(10, 8))\n",
        "plt.plot(train_loss_list, label=\"Training Loss\")\n",
        "plt.plot(val_loss_list, label=\"Validation Loss\")\n",
        "plt.xlabel(\"Epochs\")\n",
        "plt.ylabel(\"Loss\")\n",
        "plt.title(\"Training/Validation Plot\")\n",
        "plt.legend()\n",
        "plt.show()"
      ],
      "metadata": {
        "id": "hn8h_-QAdrQw",
        "trusted": true,
        "execution": {
          "iopub.status.busy": "2025-05-21T19:58:50.622374Z",
          "iopub.execute_input": "2025-05-21T19:58:50.623335Z",
          "iopub.status.idle": "2025-05-21T20:01:28.480129Z",
          "shell.execute_reply.started": "2025-05-21T19:58:50.623308Z",
          "shell.execute_reply": "2025-05-21T20:01:28.479140Z"
        },
        "colab": {
          "base_uri": "https://localhost:8080/",
          "height": 1000
        },
        "outputId": "b494706c-261b-4c97-b91f-7eec75cf811d"
      },
      "outputs": [
        {
          "output_type": "stream",
          "name": "stderr",
          "text": [
            "/usr/local/lib/python3.11/dist-packages/torch/nn/modules/transformer.py:385: UserWarning: enable_nested_tensor is True, but self.use_nested_tensor is False because encoder_layer.self_attn.batch_first was not True(use batch_first for better inference performance)\n",
            "  warnings.warn(\n",
            "Epoch 1/20:   0%|          | 0/4375 [00:00<?, ?it/s]/usr/local/lib/python3.11/dist-packages/torch/nn/functional.py:5962: UserWarning: Support for mismatched key_padding_mask and attn_mask is deprecated. Use same type for both instead.\n",
            "  warnings.warn(\n",
            "Epoch 1/20: 100%|██████████| 4375/4375 [02:22<00:00, 30.68it/s]\n"
          ]
        },
        {
          "output_type": "stream",
          "name": "stdout",
          "text": [
            "Epoch 1/20 — Training Loss: 4.9753 | Validation Loss: 4.5420\n"
          ]
        },
        {
          "output_type": "stream",
          "name": "stderr",
          "text": [
            "Epoch 2/20: 100%|██████████| 4375/4375 [02:22<00:00, 30.69it/s]\n"
          ]
        },
        {
          "output_type": "stream",
          "name": "stdout",
          "text": [
            "Epoch 2/20 — Training Loss: 4.3568 | Validation Loss: 4.1940\n"
          ]
        },
        {
          "output_type": "stream",
          "name": "stderr",
          "text": [
            "Epoch 3/20: 100%|██████████| 4375/4375 [02:22<00:00, 30.79it/s]\n"
          ]
        },
        {
          "output_type": "stream",
          "name": "stdout",
          "text": [
            "Epoch 3/20 — Training Loss: 4.0688 | Validation Loss: 3.9829\n"
          ]
        },
        {
          "output_type": "stream",
          "name": "stderr",
          "text": [
            "Epoch 4/20: 100%|██████████| 4375/4375 [02:22<00:00, 30.61it/s]\n"
          ]
        },
        {
          "output_type": "stream",
          "name": "stdout",
          "text": [
            "Epoch 4/20 — Training Loss: 3.8752 | Validation Loss: 3.8349\n"
          ]
        },
        {
          "output_type": "stream",
          "name": "stderr",
          "text": [
            "Epoch 5/20: 100%|██████████| 4375/4375 [02:22<00:00, 30.74it/s]\n"
          ]
        },
        {
          "output_type": "stream",
          "name": "stdout",
          "text": [
            "Epoch 5/20 — Training Loss: 3.7340 | Validation Loss: 3.7310\n"
          ]
        },
        {
          "output_type": "stream",
          "name": "stderr",
          "text": [
            "Epoch 6/20: 100%|██████████| 4375/4375 [02:22<00:00, 30.69it/s]\n"
          ]
        },
        {
          "output_type": "stream",
          "name": "stdout",
          "text": [
            "Epoch 6/20 — Training Loss: 3.6210 | Validation Loss: 3.6383\n"
          ]
        },
        {
          "output_type": "stream",
          "name": "stderr",
          "text": [
            "Epoch 7/20: 100%|██████████| 4375/4375 [02:22<00:00, 30.63it/s]\n"
          ]
        },
        {
          "output_type": "stream",
          "name": "stdout",
          "text": [
            "Epoch 7/20 — Training Loss: 3.5312 | Validation Loss: 3.5719\n"
          ]
        },
        {
          "output_type": "stream",
          "name": "stderr",
          "text": [
            "Epoch 8/20: 100%|██████████| 4375/4375 [02:23<00:00, 30.46it/s]\n"
          ]
        },
        {
          "output_type": "stream",
          "name": "stdout",
          "text": [
            "Epoch 8/20 — Training Loss: 3.4555 | Validation Loss: 3.5126\n"
          ]
        },
        {
          "output_type": "stream",
          "name": "stderr",
          "text": [
            "Epoch 9/20: 100%|██████████| 4375/4375 [02:23<00:00, 30.51it/s]\n"
          ]
        },
        {
          "output_type": "stream",
          "name": "stdout",
          "text": [
            "Epoch 9/20 — Training Loss: 3.3878 | Validation Loss: 3.4677\n"
          ]
        },
        {
          "output_type": "stream",
          "name": "stderr",
          "text": [
            "Epoch 10/20: 100%|██████████| 4375/4375 [02:22<00:00, 30.75it/s]\n"
          ]
        },
        {
          "output_type": "stream",
          "name": "stdout",
          "text": [
            "Epoch 10/20 — Training Loss: 3.3303 | Validation Loss: 3.4282\n"
          ]
        },
        {
          "output_type": "stream",
          "name": "stderr",
          "text": [
            "Epoch 11/20: 100%|██████████| 4375/4375 [02:22<00:00, 30.71it/s]\n"
          ]
        },
        {
          "output_type": "stream",
          "name": "stdout",
          "text": [
            "Epoch 11/20 — Training Loss: 3.2772 | Validation Loss: 3.3893\n"
          ]
        },
        {
          "output_type": "stream",
          "name": "stderr",
          "text": [
            "Epoch 12/20: 100%|██████████| 4375/4375 [02:22<00:00, 30.77it/s]\n"
          ]
        },
        {
          "output_type": "stream",
          "name": "stdout",
          "text": [
            "Epoch 12/20 — Training Loss: 3.2288 | Validation Loss: 3.3586\n"
          ]
        },
        {
          "output_type": "stream",
          "name": "stderr",
          "text": [
            "Epoch 13/20: 100%|██████████| 4375/4375 [02:22<00:00, 30.72it/s]\n"
          ]
        },
        {
          "output_type": "stream",
          "name": "stdout",
          "text": [
            "Epoch 13/20 — Training Loss: 3.1875 | Validation Loss: 3.3298\n"
          ]
        },
        {
          "output_type": "stream",
          "name": "stderr",
          "text": [
            "Epoch 14/20: 100%|██████████| 4375/4375 [02:22<00:00, 30.62it/s]\n"
          ]
        },
        {
          "output_type": "stream",
          "name": "stdout",
          "text": [
            "Epoch 14/20 — Training Loss: 3.1481 | Validation Loss: 3.3058\n"
          ]
        },
        {
          "output_type": "stream",
          "name": "stderr",
          "text": [
            "Epoch 15/20: 100%|██████████| 4375/4375 [02:36<00:00, 27.92it/s]\n"
          ]
        },
        {
          "output_type": "stream",
          "name": "stdout",
          "text": [
            "Epoch 15/20 — Training Loss: 3.1106 | Validation Loss: 3.2795\n"
          ]
        },
        {
          "output_type": "stream",
          "name": "stderr",
          "text": [
            "Epoch 16/20: 100%|██████████| 4375/4375 [02:24<00:00, 30.32it/s]\n"
          ]
        },
        {
          "output_type": "stream",
          "name": "stdout",
          "text": [
            "Epoch 16/20 — Training Loss: 3.0773 | Validation Loss: 3.2633\n"
          ]
        },
        {
          "output_type": "stream",
          "name": "stderr",
          "text": [
            "Epoch 17/20: 100%|██████████| 4375/4375 [02:22<00:00, 30.63it/s]\n"
          ]
        },
        {
          "output_type": "stream",
          "name": "stdout",
          "text": [
            "Epoch 17/20 — Training Loss: 3.0462 | Validation Loss: 3.2458\n"
          ]
        },
        {
          "output_type": "stream",
          "name": "stderr",
          "text": [
            "Epoch 18/20: 100%|██████████| 4375/4375 [02:22<00:00, 30.63it/s]\n"
          ]
        },
        {
          "output_type": "stream",
          "name": "stdout",
          "text": [
            "Epoch 18/20 — Training Loss: 3.0158 | Validation Loss: 3.2294\n"
          ]
        },
        {
          "output_type": "stream",
          "name": "stderr",
          "text": [
            "Epoch 19/20: 100%|██████████| 4375/4375 [02:22<00:00, 30.65it/s]\n"
          ]
        },
        {
          "output_type": "stream",
          "name": "stdout",
          "text": [
            "Epoch 19/20 — Training Loss: 2.9882 | Validation Loss: 3.2134\n"
          ]
        },
        {
          "output_type": "stream",
          "name": "stderr",
          "text": [
            "Epoch 20/20: 100%|██████████| 4375/4375 [02:22<00:00, 30.72it/s]\n"
          ]
        },
        {
          "output_type": "stream",
          "name": "stdout",
          "text": [
            "Epoch 20/20 — Training Loss: 2.9617 | Validation Loss: 3.1998\n"
          ]
        },
        {
          "output_type": "display_data",
          "data": {
            "text/plain": [
              "<Figure size 1000x800 with 1 Axes>"
            ],
            "image/png": "[encoded data removed]"
          },
          "metadata": {}
        }
      ],
      "execution_count": 21
    },
    {
      "cell_type": "markdown",
      "source": [
        "## Inference"
      ],
      "metadata": {
        "id": "rfbrzMuFrHvP"
      }
    },
    {
      "cell_type": "code",
      "source": [
        "checkpoints = \"/content/transformer_weights_best.pth\"\n",
        "model.load_state_dict(torch.load(checkpoints))"
      ],
      "metadata": {
        "id": "xqm2dSTjdrQw",
        "trusted": true,
        "execution": {
          "iopub.status.busy": "2025-05-21T19:26:17.353924Z",
          "iopub.execute_input": "2025-05-21T19:26:17.354199Z",
          "iopub.status.idle": "2025-05-21T19:26:17.498299Z",
          "shell.execute_reply.started": "2025-05-21T19:26:17.354178Z",
          "shell.execute_reply": "2025-05-21T19:26:17.497721Z"
        },
        "colab": {
          "base_uri": "https://localhost:8080/"
        },
        "outputId": "98db32de-ed4a-4163-cad4-8c8c712289ae"
      },
      "outputs": [
        {
          "output_type": "execute_result",
          "data": {
            "text/plain": [
              "<All keys matched successfully>"
            ]
          },
          "metadata": {},
          "execution_count": 24
        }
      ],
      "execution_count": 24
    },
    {
      "cell_type": "code",
      "source": [
        "import torch\n",
        "from torch.utils.data import DataLoader\n",
        "import pandas as pd\n",
        "\n",
        "# 1) Create test Dataset & DataLoader\n",
        "test_dataset = TranslationDataset(test_data, src_vocab, tgt_vocab)\n",
        "test_loader  = DataLoader(test_dataset, batch_size=1, shuffle=False, collate_fn=collate_fn)\n",
        "\n",
        "# 2) Greedy decoding function\n",
        "def greedy_decode(model, src, src_pad_idx, max_len, start_symbol):\n",
        "    model.eval()\n",
        "    device = next(model.parameters()).device\n",
        "\n",
        "    src = src.to(device)\n",
        "    src_key_padding_mask = make_pad_mask(src.transpose(0, 1), src_pad_idx).to(device)\n",
        "    # src = src.transpose(0, 1)\n",
        "\n",
        "    with torch.no_grad():\n",
        "        emb = model.src_embedding(src)                    # [S, B, D]\n",
        "        proj = model.src_proj(emb)                        # [S, B, D]\n",
        "        pos = model.pos_encoder(proj)                     # [S, B, D]\n",
        "        memory = model.transformer.encoder(\n",
        "            pos,\n",
        "            src_key_padding_mask=src_key_padding_mask      # [B, S]\n",
        "        )\n",
        "\n",
        "    ys = torch.full(\n",
        "        (1, src.size(1)), start_symbol, dtype=torch.long, device=device\n",
        "    )\n",
        "\n",
        "    for i in range(max_len-1):\n",
        "        tgt_key_padding_mask = make_pad_mask(ys.transpose(0, 1), tgt_vocab['<pad>']).to(device)\n",
        "        tgt_mask = generate_square_subsequent_mask(ys.size(0)).to(device)\n",
        "\n",
        "        with torch.no_grad():\n",
        "            dec_emb  = model.tgt_embedding(ys)                  # [t, B, D]\n",
        "            dec_proj = model.tgt_proj(dec_emb)                  # [t, B, D]\n",
        "            dec_pos  = model.pos_encoder(dec_proj)\n",
        "            # print(model.pos_encoder(model.tgt_proj(model.tgt_embedding(ys))).shape)\n",
        "            # print(memory.shape)\n",
        "            out = model.transformer.decoder(\n",
        "                dec_pos,\n",
        "                memory,\n",
        "                tgt_mask=tgt_mask,\n",
        "                memory_key_padding_mask=src_key_padding_mask,   # [B, S]\n",
        "                tgt_key_padding_mask=tgt_key_padding_mask      # [B, t]\n",
        "            )\n",
        "            out = model.output_layer(out)\n",
        "\n",
        "        prob = out[-1].softmax(dim=-1)\n",
        "        next_word = torch.argmax(prob, dim=-1)\n",
        "\n",
        "        ys = torch.cat([ys, next_word.unsqueeze(0)], dim=0)\n",
        "\n",
        "        if next_word.item() == tgt_vocab['<eos>']:\n",
        "            break\n",
        "\n",
        "    return ys.squeeze(1).cpu().tolist()\n",
        "# 3) Run evaluation\n"
      ],
      "metadata": {
        "id": "LGnfGKM6drQw",
        "trusted": true,
        "execution": {
          "iopub.status.busy": "2025-05-21T19:30:29.732717Z",
          "iopub.execute_input": "2025-05-21T19:30:29.732982Z",
          "iopub.status.idle": "2025-05-21T19:30:29.742393Z",
          "shell.execute_reply.started": "2025-05-21T19:30:29.732961Z",
          "shell.execute_reply": "2025-05-21T19:30:29.741697Z"
        }
      },
      "outputs": [],
      "execution_count": 25
    },
    {
      "cell_type": "code",
      "source": [
        "results = []\n",
        "token_ids_list = []\n",
        "\n",
        "i=0\n",
        "for src, tgt in test_loader:\n",
        "    if i >=5:\n",
        "        break\n",
        "    i+=1\n",
        "    pred_ids = greedy_decode(\n",
        "        model=model,\n",
        "        src=src,\n",
        "        src_pad_idx=src_vocab['<pad>'],\n",
        "        max_len=100,\n",
        "        start_symbol=tgt_vocab['<sos>']\n",
        "    )\n",
        "    token_ids_list.append((src, tgt, pred_ids))\n",
        "\n",
        "# 4) Convert token IDs to strings and store all info\n",
        "eval_data = []\n",
        "\n",
        "for src_tensor, tgt_tensor, pred_ids in token_ids_list:\n",
        "    # Convert source\n",
        "    src_tokens = [ list(src_vocab.keys())[list(src_vocab.values()).index(t.item())]\n",
        "                   if t.item() in src_vocab.values() else '<unk>'\n",
        "                   for t in src_tensor.squeeze(1) ]\n",
        "    src_sentence = ' '.join(src_tokens)\n",
        "\n",
        "    # Convert target ground truth\n",
        "    tgt_tokens = [ list(tgt_vocab.keys())[list(tgt_vocab.values()).index(t.item())]\n",
        "                   if t.item() in tgt_vocab.values() else '<unk>'\n",
        "                   for t in tgt_tensor.squeeze(1) ]\n",
        "    tgt_sentence = tokenizer_indic.convert_tokens_to_string(tgt_tokens)\n",
        "\n",
        "    # Convert prediction\n",
        "    pred_tokens = [ list(tgt_vocab.keys())[list(tgt_vocab.values()).index(t)]\n",
        "                    if t in tgt_vocab.values() else '<unk>'\n",
        "                    for t in pred_ids ]\n",
        "    pred_sentence = tokenizer_indic.convert_tokens_to_string(pred_tokens)\n",
        "\n",
        "    eval_data.append({\n",
        "        'English': src_sentence,\n",
        "        'Ground Truth': tgt_sentence,\n",
        "        'Prediction': pred_sentence\n",
        "    })\n",
        "\n",
        "# 5) Save to CSV\n",
        "df = pd.DataFrame(eval_data)\n",
        "df.to_csv('translation_results.csv', index=False)\n",
        "print(\"Saved predictions to translation_results.csv\")\n"
      ],
      "metadata": {
        "id": "7EFiaOxkdrQw",
        "trusted": true,
        "execution": {
          "iopub.status.busy": "2025-05-21T19:30:33.162066Z",
          "iopub.execute_input": "2025-05-21T19:30:33.162594Z",
          "iopub.status.idle": "2025-05-21T19:30:34.412052Z",
          "shell.execute_reply.started": "2025-05-21T19:30:33.162571Z",
          "shell.execute_reply": "2025-05-21T19:30:34.411381Z"
        }
      },
      "outputs": [],
      "execution_count": null
    },
    {
      "cell_type": "code",
      "source": [
        "# Print just 4 examples with English, Ground Truth, and Prediction\n",
        "\n",
        "for i, (src, tgt) in enumerate(test_loader):\n",
        "    if i >= 4:\n",
        "        break\n",
        "\n",
        "    # Decode prediction\n",
        "    pred_ids = greedy_decode(\n",
        "        model=model,\n",
        "        src=src,\n",
        "        src_pad_idx=src_vocab['<pad>'],\n",
        "        max_len=100,\n",
        "        start_symbol=tgt_vocab['<sos>']\n",
        "    )\n",
        "\n",
        "    # Convert English source\n",
        "    src_tokens = [ list(src_vocab.keys())[list(src_vocab.values()).index(t.item())]\n",
        "                   if t.item() in src_vocab.values() else '<unk>'\n",
        "                   for t in src.squeeze(1) ]\n",
        "    src_sentence = ' '.join(src_tokens)\n",
        "\n",
        "    # Convert ground truth target\n",
        "    tgt_tokens = [ list(tgt_vocab.keys())[list(tgt_vocab.values()).index(t.item())]\n",
        "                   if t.item() in tgt_vocab.values() else '<unk>'\n",
        "                   for t in tgt.squeeze(1) ]\n",
        "    tgt_sentence = tokenizer_indic.convert_tokens_to_string(tgt_tokens)\n",
        "\n",
        "    # Convert prediction\n",
        "    pred_tokens = [ list(tgt_vocab.keys())[list(tgt_vocab.values()).index(t)]\n",
        "                    if t in tgt_vocab.values() else '<unk>'\n",
        "                    for t in pred_ids ]\n",
        "    pred_sentence = tokenizer_indic.convert_tokens_to_string(pred_tokens)\n",
        "\n",
        "    # Print output\n",
        "    print(f\"Example {i+1}\")\n",
        "    print(\"English      :\", src_sentence)\n",
        "    print(\"Ground Truth :\", tgt_sentence)\n",
        "    print(\"Prediction   :\", pred_sentence)\n",
        "    print(\"-\" * 60)\n"
      ],
      "metadata": {
        "id": "z7c8opLTdrQw",
        "trusted": true,
        "execution": {
          "iopub.status.busy": "2025-05-21T19:31:38.087081Z",
          "iopub.execute_input": "2025-05-21T19:31:38.087779Z",
          "iopub.status.idle": "2025-05-21T19:31:39.174477Z",
          "shell.execute_reply.started": "2025-05-21T19:31:38.087755Z",
          "shell.execute_reply": "2025-05-21T19:31:39.173891Z"
        },
        "colab": {
          "base_uri": "https://localhost:8080/"
        },
        "outputId": "4ff17873-40df-4a78-eafa-10e7e762b48e"
      },
      "outputs": [
        {
          "output_type": "stream",
          "name": "stdout",
          "text": [
            "Example 1\n",
            "English      : <sos> the university grants commission has agreed to provide 2 credit points as an elective under the choice based credit system <unk> to students in higher educational institutions who would be undertaking and completing the <unk> <eos>\n",
            "Ground Truth : <sos> यनवरसट अनदन आयग (ugc) उचच शकष ससथन क छतर क चइस बसड करडट ससटम (cbcs) क तहत वकलपक रप म 2 करडट अक दन पर सहमत ह गय ह.<eos>\n",
            "Prediction   : <sos> वशववदयलय आयग न एक सथपत कय ह, जसम वदयरथय क तहत करडट क तहत एक ससथन क तहत करडट रप स वदयरथय क तहत करडट क तहत करडट क तहत करडट रप स परदन कय जएग।<eos>\n",
            "------------------------------------------------------------\n",
            "Example 2\n",
            "English      : <sos> power of the mind <eos>\n",
            "Ground Truth : <sos> मन क शकत<eos>\n",
            "Prediction   : <sos> कय ह क शकत क शकत<eos>\n",
            "------------------------------------------------------------\n",
            "Example 3\n",
            "English      : <sos> as weve made clear, the negotiations over the settlement of an outstanding claim were completely separate from the discussions about returning our american citizens home, state department spokesman john kirby said. <eos>\n",
            "Ground Truth : <sos> वदश वभग क परवकत जन करब न कह, ‘जस क हमन सफ कर दय ह, समझत क रश स जड बतचत क हमर अमरक नगरक क घर लटन क चरचओ स कछ लन दन नह ह।<eos>\n",
            "Prediction   : <sos> अमरक क अधकर न कह क अमरक क परवकत क समसय क बच एक परथम शरणय क दव कय गय थ, जसस हमर रजय क बच एक पर तरह स वचर कय गय ह।<eos>\n",
            "------------------------------------------------------------\n",
            "Example 4\n",
            "English      : <sos> two other indians, devinder singh and <unk> krishnan, also qualified for the world championships as they clocked <unk> and <unk> respectively. <eos>\n",
            "Ground Truth : <sos> इरफन क अलव दवनदर सह और गणपत कषणन न भ करमश: एक घट 21 मनट और 22 सकड तथ एक घट 22 मनट और 12 सकड क समय क सथ वशव चमपयनशप क लए कवलफई कय।<eos>\n",
            "Prediction   : <sos> द अनय अनय अनय अनय लग और अनय कपयटरय क लए दनय क रप म चनतय क लए चनत ह।<eos>\n",
            "------------------------------------------------------------\n"
          ]
        }
      ],
      "execution_count": 26
    },
    {
      "cell_type": "markdown",
      "source": [
        "# Calculating BLEU Scores"
      ],
      "metadata": {
        "id": "b2Scwl1oWIO8"
      }
    },
    {
      "cell_type": "code",
      "source": [
        "!pip install nltk"
      ],
      "metadata": {
        "id": "RMemSJ-_Vdgm",
        "trusted": true,
        "execution": {
          "iopub.status.busy": "2025-05-21T19:05:46.554080Z",
          "iopub.execute_input": "2025-05-21T19:05:46.554648Z",
          "iopub.status.idle": "2025-05-21T19:05:50.340815Z",
          "shell.execute_reply.started": "2025-05-21T19:05:46.554623Z",
          "shell.execute_reply": "2025-05-21T19:05:50.339831Z"
        },
        "colab": {
          "base_uri": "https://localhost:8080/"
        },
        "outputId": "ea19d2b0-a58c-4482-fd92-6a750edb800d"
      },
      "outputs": [
        {
          "output_type": "stream",
          "name": "stdout",
          "text": [
            "Requirement already satisfied: nltk in /usr/local/lib/python3.11/dist-packages (3.9.1)\n",
            "Requirement already satisfied: click in /usr/local/lib/python3.11/dist-packages (from nltk) (8.2.0)\n",
            "Requirement already satisfied: joblib in /usr/local/lib/python3.11/dist-packages (from nltk) (1.5.0)\n",
            "Requirement already satisfied: regex>=2021.8.3 in /usr/local/lib/python3.11/dist-packages (from nltk) (2024.11.6)\n",
            "Requirement already satisfied: tqdm in /usr/local/lib/python3.11/dist-packages (from nltk) (4.67.1)\n"
          ]
        }
      ],
      "execution_count": 27
    },
    {
      "cell_type": "code",
      "source": [
        "import nltk\n",
        "from nltk.translate.bleu_score import corpus_bleu, SmoothingFunction\n",
        "nltk.download('punkt')\n",
        "nltk.download('punkt_tab')\n",
        "\n",
        "def compute_bleu_scores_k(model, test_data, src_vocab, tgt_vocab, tokenizer_indic, max_len=50):\n",
        "    references = []\n",
        "    hypotheses = []\n",
        "\n",
        "    model.eval()\n",
        "    device = next(model.parameters()).device\n",
        "    i=0\n",
        "\n",
        "    for idx, row in test_data.iterrows():\n",
        "        if i>=1000:\n",
        "            break\n",
        "        i+=1\n",
        "        # Tokenize and index source sentence\n",
        "        src_tokens = row['source'].split()  # or use your tokenize() function\n",
        "        src_indices = [src_vocab['<sos>']] + [src_vocab.get(w, src_vocab['<unk>']) for w in src_tokens] + [src_vocab['<eos>']]\n",
        "        src_tensor = torch.tensor(src_indices).unsqueeze(1).to(device)  # (seq_len, 1)\n",
        "\n",
        "        # Get prediction\n",
        "        pred_ids = greedy_decode(\n",
        "            model=model,\n",
        "            src=src_tensor,\n",
        "            src_pad_idx=src_vocab['<pad>'],\n",
        "            max_len=max_len,\n",
        "            start_symbol=tgt_vocab['<sos>']\n",
        "        )\n",
        "\n",
        "        # Convert prediction to tokens\n",
        "        pred_tokens = [list(tgt_vocab.keys())[list(tgt_vocab.values()).index(t)]\n",
        "                       if t in tgt_vocab.values() else '<unk>'\n",
        "                       for t in pred_ids]\n",
        "\n",
        "        # Remove special tokens\n",
        "        pred_tokens = [tok for tok in pred_tokens if tok not in ['<sos>', '<eos>', '<pad>']]\n",
        "\n",
        "        # Ground truth target\n",
        "        tgt_tokens = tokenizer_indic.tokenize(row['target'])\n",
        "        tgt_tokens = [tok for tok in tgt_tokens if tok not in ['<sos>', '<eos>', '<pad>']]\n",
        "\n",
        "        # Tokenize for BLEU\n",
        "        references.append([nltk.word_tokenize(tokenizer_indic.convert_tokens_to_string(tgt_tokens))])\n",
        "        hypotheses.append(nltk.word_tokenize(tokenizer_indic.convert_tokens_to_string(pred_tokens)))\n",
        "\n",
        "    # BLEU with smoothing\n",
        "    smoothie = SmoothingFunction().method4\n",
        "\n",
        "    print(\"\\n🔍 BLEU Scores on Test Set:\")\n",
        "    print(f\"BLEU-1 (Unigram):   {corpus_bleu(references, hypotheses, weights=(1, 0, 0, 0), smoothing_function=smoothie):.4f}\")\n",
        "    print(f\"BLEU-2 (Bigram):    {corpus_bleu(references, hypotheses, weights=(0.5, 0.5, 0, 0), smoothing_function=smoothie):.4f}\")\n",
        "    print(f\"BLEU-3 (Trigram):   {corpus_bleu(references, hypotheses, weights=(1/3, 1/3, 1/3, 0), smoothing_function=smoothie):.4f}\")\n",
        "    print(f\"BLEU-4 (4-gram):    {corpus_bleu(references, hypotheses, weights=(0.25, 0.25, 0.25, 0.25), smoothing_function=smoothie):.4f}\")\n",
        "\n",
        "# Example usage:\n",
        "compute_bleu_scores_k(model, test_data, src_vocab, tgt_vocab, tokenizer_indic)\n"
      ],
      "metadata": {
        "id": "VmGX7Tl6Vf9a",
        "trusted": true,
        "execution": {
          "iopub.status.busy": "2025-05-21T19:32:52.294296Z",
          "iopub.execute_input": "2025-05-21T19:32:52.294884Z",
          "iopub.status.idle": "2025-05-21T19:35:24.176302Z",
          "shell.execute_reply.started": "2025-05-21T19:32:52.294860Z",
          "shell.execute_reply": "2025-05-21T19:35:24.175647Z"
        },
        "colab": {
          "base_uri": "https://localhost:8080/"
        },
        "outputId": "a4d79984-e3ff-4c47-8af8-90622b66ea87"
      },
      "outputs": [
        {
          "output_type": "stream",
          "name": "stderr",
          "text": [
            "[nltk_data] Downloading package punkt to /root/nltk_data...\n",
            "[nltk_data]   Package punkt is already up-to-date!\n",
            "[nltk_data] Downloading package punkt_tab to /root/nltk_data...\n",
            "[nltk_data]   Unzipping tokenizers/punkt_tab.zip.\n",
            "/usr/local/lib/python3.11/dist-packages/torch/nn/functional.py:5962: UserWarning: Support for mismatched key_padding_mask and attn_mask is deprecated. Use same type for both instead.\n",
            "  warnings.warn(\n"
          ]
        },
        {
          "output_type": "stream",
          "name": "stdout",
          "text": [
            "\n",
            "🔍 BLEU Scores on Test Set:\n",
            "BLEU-1 (Unigram):   0.1330\n",
            "BLEU-2 (Bigram):    0.0696\n",
            "BLEU-3 (Trigram):   0.0386\n",
            "BLEU-4 (4-gram):    0.0223\n"
          ]
        }
      ],
      "execution_count": 30
    },
    {
      "cell_type": "code",
      "source": [
        "model.transformer.encoder"
      ],
      "metadata": {
        "colab": {
          "base_uri": "https://localhost:8080/"
        },
        "id": "jcXsZjP8y1eE",
        "outputId": "5615866e-1031-4731-af79-7051ea3bd142"
      },
      "execution_count": 38,
      "outputs": [
        {
          "output_type": "execute_result",
          "data": {
            "text/plain": [
              "TransformerEncoder(\n",
              "  (layers): ModuleList(\n",
              "    (0-2): 3 x TransformerEncoderLayer(\n",
              "      (self_attn): MultiheadAttention(\n",
              "        (out_proj): NonDynamicallyQuantizableLinear(in_features=256, out_features=256, bias=True)\n",
              "      )\n",
              "      (linear1): Linear(in_features=256, out_features=512, bias=True)\n",
              "      (dropout): Dropout(p=0.1, inplace=False)\n",
              "      (linear2): Linear(in_features=512, out_features=256, bias=True)\n",
              "      (norm1): LayerNorm((256,), eps=1e-05, elementwise_affine=True)\n",
              "      (norm2): LayerNorm((256,), eps=1e-05, elementwise_affine=True)\n",
              "      (dropout1): Dropout(p=0.1, inplace=False)\n",
              "      (dropout2): Dropout(p=0.1, inplace=False)\n",
              "    )\n",
              "  )\n",
              "  (norm): LayerNorm((256,), eps=1e-05, elementwise_affine=True)\n",
              ")"
            ]
          },
          "metadata": {},
          "execution_count": 38
        }
      ]
    },
    {
      "cell_type": "code",
      "source": [
        "model.transformer.decoder"
      ],
      "metadata": {
        "colab": {
          "base_uri": "https://localhost:8080/"
        },
        "id": "G50AVh37zR_T",
        "outputId": "84285336-0475-4feb-ba5d-058746e29c24"
      },
      "execution_count": 39,
      "outputs": [
        {
          "output_type": "execute_result",
          "data": {
            "text/plain": [
              "TransformerDecoder(\n",
              "  (layers): ModuleList(\n",
              "    (0-2): 3 x TransformerDecoderLayer(\n",
              "      (self_attn): MultiheadAttention(\n",
              "        (out_proj): NonDynamicallyQuantizableLinear(in_features=256, out_features=256, bias=True)\n",
              "      )\n",
              "      (multihead_attn): MultiheadAttention(\n",
              "        (out_proj): NonDynamicallyQuantizableLinear(in_features=256, out_features=256, bias=True)\n",
              "      )\n",
              "      (linear1): Linear(in_features=256, out_features=512, bias=True)\n",
              "      (dropout): Dropout(p=0.1, inplace=False)\n",
              "      (linear2): Linear(in_features=512, out_features=256, bias=True)\n",
              "      (norm1): LayerNorm((256,), eps=1e-05, elementwise_affine=True)\n",
              "      (norm2): LayerNorm((256,), eps=1e-05, elementwise_affine=True)\n",
              "      (norm3): LayerNorm((256,), eps=1e-05, elementwise_affine=True)\n",
              "      (dropout1): Dropout(p=0.1, inplace=False)\n",
              "      (dropout2): Dropout(p=0.1, inplace=False)\n",
              "      (dropout3): Dropout(p=0.1, inplace=False)\n",
              "    )\n",
              "  )\n",
              "  (norm): LayerNorm((256,), eps=1e-05, elementwise_affine=True)\n",
              ")"
            ]
          },
          "metadata": {},
          "execution_count": 39
        }
      ]
    },
    {
      "cell_type": "code",
      "source": [],
      "metadata": {
        "id": "s8ooqJnazsA-"
      },
      "execution_count": null,
      "outputs": []
    }
  ]
}